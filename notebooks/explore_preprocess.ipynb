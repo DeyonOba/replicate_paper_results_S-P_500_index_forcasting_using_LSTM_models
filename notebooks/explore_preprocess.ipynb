{
 "cells": [
  {
   "cell_type": "code",
   "execution_count": 127,
   "metadata": {},
   "outputs": [],
   "source": [
    "import os\n",
    "from pathlib import Path\n",
    "import pandas as pd\n",
    "import numpy as np"
   ]
  },
  {
   "cell_type": "markdown",
   "metadata": {},
   "source": [
    "## $\\text{Data Loading}$"
   ]
  },
  {
   "cell_type": "code",
   "execution_count": 40,
   "metadata": {},
   "outputs": [],
   "source": [
    "# Running the Ipython notebook from the 'notebooks' directory\n",
    "# The data path should point to '~/*/data' where the dataset is found\n",
    "data_path = Path().absolute().parent.joinpath(\"data\", \"HistoricalPrices.csv\")\n",
    "spx_500 = pd.read_csv(data_path)"
   ]
  },
  {
   "cell_type": "markdown",
   "metadata": {},
   "source": [
    "## $\\text{Data Exploration}$"
   ]
  },
  {
   "cell_type": "code",
   "execution_count": 41,
   "metadata": {},
   "outputs": [
    {
     "data": {
      "text/plain": [
       "(2768, 5)"
      ]
     },
     "execution_count": 41,
     "metadata": {},
     "output_type": "execute_result"
    }
   ],
   "source": [
    "spx_500.shape"
   ]
  },
  {
   "cell_type": "code",
   "execution_count": 42,
   "metadata": {},
   "outputs": [
    {
     "name": "stdout",
     "output_type": "stream",
     "text": [
      "<class 'pandas.core.frame.DataFrame'>\n",
      "RangeIndex: 2768 entries, 0 to 2767\n",
      "Data columns (total 5 columns):\n",
      " #   Column  Non-Null Count  Dtype  \n",
      "---  ------  --------------  -----  \n",
      " 0   Date    2768 non-null   object \n",
      " 1    Open   2768 non-null   float64\n",
      " 2    High   2768 non-null   float64\n",
      " 3    Low    2768 non-null   float64\n",
      " 4    Close  2768 non-null   float64\n",
      "dtypes: float64(4), object(1)\n",
      "memory usage: 108.3+ KB\n"
     ]
    }
   ],
   "source": [
    "spx_500.info()"
   ]
  },
  {
   "cell_type": "code",
   "execution_count": 43,
   "metadata": {},
   "outputs": [
    {
     "data": {
      "text/plain": [
       "np.int64(0)"
      ]
     },
     "execution_count": 43,
     "metadata": {},
     "output_type": "execute_result"
    }
   ],
   "source": [
    "spx_500.duplicated().sum()"
   ]
  },
  {
   "cell_type": "markdown",
   "metadata": {},
   "source": [
    "### $\\text{Observation}$\n",
    "$\\text{The historical S\\&P 500 index dataset has 2767 entries, with no missing data in any column.}$  <br>\n",
    "$\\text{The dataframe columns \\textbf{\\textit{Open}}, \\textbf{\\textit{High}},  \\textbf{\\textit{Low}}, and \\textbf{\\textit{Close}} are properly formated to the correct data type \\textbf{float64}, but \\textbf{\\textit{Date}} is not in a \\textit{datetime} format.}$"
   ]
  },
  {
   "cell_type": "code",
   "execution_count": 44,
   "metadata": {},
   "outputs": [
    {
     "data": {
      "text/html": [
       "<div>\n",
       "<style scoped>\n",
       "    .dataframe tbody tr th:only-of-type {\n",
       "        vertical-align: middle;\n",
       "    }\n",
       "\n",
       "    .dataframe tbody tr th {\n",
       "        vertical-align: top;\n",
       "    }\n",
       "\n",
       "    .dataframe thead th {\n",
       "        text-align: right;\n",
       "    }\n",
       "</style>\n",
       "<table border=\"1\" class=\"dataframe\">\n",
       "  <thead>\n",
       "    <tr style=\"text-align: right;\">\n",
       "      <th></th>\n",
       "      <th>Date</th>\n",
       "      <th>Open</th>\n",
       "      <th>High</th>\n",
       "      <th>Low</th>\n",
       "      <th>Close</th>\n",
       "    </tr>\n",
       "  </thead>\n",
       "  <tbody>\n",
       "    <tr>\n",
       "      <th>0</th>\n",
       "      <td>09/30/24</td>\n",
       "      <td>5726.52</td>\n",
       "      <td>5765.14</td>\n",
       "      <td>5703.53</td>\n",
       "      <td>5762.48</td>\n",
       "    </tr>\n",
       "    <tr>\n",
       "      <th>1</th>\n",
       "      <td>09/27/24</td>\n",
       "      <td>5755.36</td>\n",
       "      <td>5763.78</td>\n",
       "      <td>5727.34</td>\n",
       "      <td>5738.17</td>\n",
       "    </tr>\n",
       "    <tr>\n",
       "      <th>2</th>\n",
       "      <td>09/26/24</td>\n",
       "      <td>5762.22</td>\n",
       "      <td>5767.37</td>\n",
       "      <td>5721.01</td>\n",
       "      <td>5745.37</td>\n",
       "    </tr>\n",
       "    <tr>\n",
       "      <th>3</th>\n",
       "      <td>09/25/24</td>\n",
       "      <td>5733.65</td>\n",
       "      <td>5741.03</td>\n",
       "      <td>5712.06</td>\n",
       "      <td>5722.26</td>\n",
       "    </tr>\n",
       "    <tr>\n",
       "      <th>4</th>\n",
       "      <td>09/24/24</td>\n",
       "      <td>5727.66</td>\n",
       "      <td>5735.32</td>\n",
       "      <td>5698.99</td>\n",
       "      <td>5732.93</td>\n",
       "    </tr>\n",
       "    <tr>\n",
       "      <th>...</th>\n",
       "      <td>...</td>\n",
       "      <td>...</td>\n",
       "      <td>...</td>\n",
       "      <td>...</td>\n",
       "      <td>...</td>\n",
       "    </tr>\n",
       "    <tr>\n",
       "      <th>2763</th>\n",
       "      <td>10/07/13</td>\n",
       "      <td>1687.15</td>\n",
       "      <td>1687.15</td>\n",
       "      <td>1674.70</td>\n",
       "      <td>1676.12</td>\n",
       "    </tr>\n",
       "    <tr>\n",
       "      <th>2764</th>\n",
       "      <td>10/04/13</td>\n",
       "      <td>1678.79</td>\n",
       "      <td>1691.94</td>\n",
       "      <td>1677.33</td>\n",
       "      <td>1690.50</td>\n",
       "    </tr>\n",
       "    <tr>\n",
       "      <th>2765</th>\n",
       "      <td>10/03/13</td>\n",
       "      <td>1692.35</td>\n",
       "      <td>1692.35</td>\n",
       "      <td>1670.36</td>\n",
       "      <td>1678.66</td>\n",
       "    </tr>\n",
       "    <tr>\n",
       "      <th>2766</th>\n",
       "      <td>10/02/13</td>\n",
       "      <td>1691.90</td>\n",
       "      <td>1693.87</td>\n",
       "      <td>1680.34</td>\n",
       "      <td>1693.87</td>\n",
       "    </tr>\n",
       "    <tr>\n",
       "      <th>2767</th>\n",
       "      <td>10/01/13</td>\n",
       "      <td>1682.41</td>\n",
       "      <td>1696.55</td>\n",
       "      <td>1682.07</td>\n",
       "      <td>1695.00</td>\n",
       "    </tr>\n",
       "  </tbody>\n",
       "</table>\n",
       "<p>2768 rows × 5 columns</p>\n",
       "</div>"
      ],
      "text/plain": [
       "          Date     Open     High      Low    Close\n",
       "0     09/30/24  5726.52  5765.14  5703.53  5762.48\n",
       "1     09/27/24  5755.36  5763.78  5727.34  5738.17\n",
       "2     09/26/24  5762.22  5767.37  5721.01  5745.37\n",
       "3     09/25/24  5733.65  5741.03  5712.06  5722.26\n",
       "4     09/24/24  5727.66  5735.32  5698.99  5732.93\n",
       "...        ...      ...      ...      ...      ...\n",
       "2763  10/07/13  1687.15  1687.15  1674.70  1676.12\n",
       "2764  10/04/13  1678.79  1691.94  1677.33  1690.50\n",
       "2765  10/03/13  1692.35  1692.35  1670.36  1678.66\n",
       "2766  10/02/13  1691.90  1693.87  1680.34  1693.87\n",
       "2767  10/01/13  1682.41  1696.55  1682.07  1695.00\n",
       "\n",
       "[2768 rows x 5 columns]"
      ]
     },
     "execution_count": 44,
     "metadata": {},
     "output_type": "execute_result"
    }
   ],
   "source": [
    "spx_500"
   ]
  },
  {
   "cell_type": "code",
   "execution_count": 45,
   "metadata": {},
   "outputs": [],
   "source": [
    "spx_500[\"Date\"] = pd.to_datetime(spx_500[\"Date\"], format=\"%m/%d/%y\", yearfirst=True)"
   ]
  },
  {
   "cell_type": "code",
   "execution_count": 46,
   "metadata": {},
   "outputs": [],
   "source": [
    "spx_500.sort_values(by=\"Date\", ascending=True, ignore_index=True, inplace=True)"
   ]
  },
  {
   "cell_type": "code",
   "execution_count": 47,
   "metadata": {},
   "outputs": [
    {
     "data": {
      "text/plain": [
       "True"
      ]
     },
     "execution_count": 47,
     "metadata": {},
     "output_type": "execute_result"
    }
   ],
   "source": [
    "# CHECK: If the date is montonically increasing\n",
    "spx_500.set_index(\"Date\").index.is_monotonic_increasing"
   ]
  },
  {
   "cell_type": "code",
   "execution_count": 48,
   "metadata": {},
   "outputs": [
    {
     "data": {
      "text/html": [
       "<div>\n",
       "<style scoped>\n",
       "    .dataframe tbody tr th:only-of-type {\n",
       "        vertical-align: middle;\n",
       "    }\n",
       "\n",
       "    .dataframe tbody tr th {\n",
       "        vertical-align: top;\n",
       "    }\n",
       "\n",
       "    .dataframe thead th {\n",
       "        text-align: right;\n",
       "    }\n",
       "</style>\n",
       "<table border=\"1\" class=\"dataframe\">\n",
       "  <thead>\n",
       "    <tr style=\"text-align: right;\">\n",
       "      <th></th>\n",
       "      <th>Date</th>\n",
       "      <th>Open</th>\n",
       "      <th>High</th>\n",
       "      <th>Low</th>\n",
       "      <th>Close</th>\n",
       "    </tr>\n",
       "  </thead>\n",
       "  <tbody>\n",
       "    <tr>\n",
       "      <th>0</th>\n",
       "      <td>2013-10-01</td>\n",
       "      <td>1682.41</td>\n",
       "      <td>1696.55</td>\n",
       "      <td>1682.07</td>\n",
       "      <td>1695.00</td>\n",
       "    </tr>\n",
       "    <tr>\n",
       "      <th>1</th>\n",
       "      <td>2013-10-02</td>\n",
       "      <td>1691.90</td>\n",
       "      <td>1693.87</td>\n",
       "      <td>1680.34</td>\n",
       "      <td>1693.87</td>\n",
       "    </tr>\n",
       "    <tr>\n",
       "      <th>2</th>\n",
       "      <td>2013-10-03</td>\n",
       "      <td>1692.35</td>\n",
       "      <td>1692.35</td>\n",
       "      <td>1670.36</td>\n",
       "      <td>1678.66</td>\n",
       "    </tr>\n",
       "    <tr>\n",
       "      <th>3</th>\n",
       "      <td>2013-10-04</td>\n",
       "      <td>1678.79</td>\n",
       "      <td>1691.94</td>\n",
       "      <td>1677.33</td>\n",
       "      <td>1690.50</td>\n",
       "    </tr>\n",
       "    <tr>\n",
       "      <th>4</th>\n",
       "      <td>2013-10-07</td>\n",
       "      <td>1687.15</td>\n",
       "      <td>1687.15</td>\n",
       "      <td>1674.70</td>\n",
       "      <td>1676.12</td>\n",
       "    </tr>\n",
       "    <tr>\n",
       "      <th>...</th>\n",
       "      <td>...</td>\n",
       "      <td>...</td>\n",
       "      <td>...</td>\n",
       "      <td>...</td>\n",
       "      <td>...</td>\n",
       "    </tr>\n",
       "    <tr>\n",
       "      <th>2763</th>\n",
       "      <td>2024-09-24</td>\n",
       "      <td>5727.66</td>\n",
       "      <td>5735.32</td>\n",
       "      <td>5698.99</td>\n",
       "      <td>5732.93</td>\n",
       "    </tr>\n",
       "    <tr>\n",
       "      <th>2764</th>\n",
       "      <td>2024-09-25</td>\n",
       "      <td>5733.65</td>\n",
       "      <td>5741.03</td>\n",
       "      <td>5712.06</td>\n",
       "      <td>5722.26</td>\n",
       "    </tr>\n",
       "    <tr>\n",
       "      <th>2765</th>\n",
       "      <td>2024-09-26</td>\n",
       "      <td>5762.22</td>\n",
       "      <td>5767.37</td>\n",
       "      <td>5721.01</td>\n",
       "      <td>5745.37</td>\n",
       "    </tr>\n",
       "    <tr>\n",
       "      <th>2766</th>\n",
       "      <td>2024-09-27</td>\n",
       "      <td>5755.36</td>\n",
       "      <td>5763.78</td>\n",
       "      <td>5727.34</td>\n",
       "      <td>5738.17</td>\n",
       "    </tr>\n",
       "    <tr>\n",
       "      <th>2767</th>\n",
       "      <td>2024-09-30</td>\n",
       "      <td>5726.52</td>\n",
       "      <td>5765.14</td>\n",
       "      <td>5703.53</td>\n",
       "      <td>5762.48</td>\n",
       "    </tr>\n",
       "  </tbody>\n",
       "</table>\n",
       "<p>2768 rows × 5 columns</p>\n",
       "</div>"
      ],
      "text/plain": [
       "           Date     Open     High      Low    Close\n",
       "0    2013-10-01  1682.41  1696.55  1682.07  1695.00\n",
       "1    2013-10-02  1691.90  1693.87  1680.34  1693.87\n",
       "2    2013-10-03  1692.35  1692.35  1670.36  1678.66\n",
       "3    2013-10-04  1678.79  1691.94  1677.33  1690.50\n",
       "4    2013-10-07  1687.15  1687.15  1674.70  1676.12\n",
       "...         ...      ...      ...      ...      ...\n",
       "2763 2024-09-24  5727.66  5735.32  5698.99  5732.93\n",
       "2764 2024-09-25  5733.65  5741.03  5712.06  5722.26\n",
       "2765 2024-09-26  5762.22  5767.37  5721.01  5745.37\n",
       "2766 2024-09-27  5755.36  5763.78  5727.34  5738.17\n",
       "2767 2024-09-30  5726.52  5765.14  5703.53  5762.48\n",
       "\n",
       "[2768 rows x 5 columns]"
      ]
     },
     "execution_count": 48,
     "metadata": {},
     "output_type": "execute_result"
    }
   ],
   "source": [
    "spx_500"
   ]
  },
  {
   "cell_type": "markdown",
   "metadata": {},
   "source": [
    "## $\\text{Preprocessing \\& Feature Engineering}$\n"
   ]
  },
  {
   "cell_type": "markdown",
   "metadata": {},
   "source": [
    "- $\\text{50 and 200-day Moving Averages (MOV\\_AVG 50/200D)}$\n",
    "- $\\text{14-day Relative Strength Index (RSI\\_14D)}$\n",
    "- $\\text{Open and Closing Prices (PX\\_OPEN/CLOSE)}$\n",
    "- $\\text{High and Low Prices (PX\\_HIGH/LOW)}$\n",
    "- $\\text{Daily Price High-Low Difference (PX\\_HIGH\\_LOW\\_DIFFERENCE)}$\n",
    "- $\\text{Daily Volume (PX\\_VOLUME)}$\n",
    "- $\\text{30-day Volatility (VOLATILITY\\_30D)}$\n",
    "- $\\text{Beta (BETA\\_ADJ\\_OVERRIDABLE)}$\n",
    "  \n",
    "$\\text{Along with the historical SPX data, the following additional metrics are considered:}$\n",
    "\n",
    "- $\\textbf{SPX Ratios:}$\n",
    "  + $\\text{Price-to-Earnings Ratio (PE\\_RATIO)}$\n",
    "  + $\\text{Price-to-Book Ratio (PX\\_TO\\_BOOK\\_RATIO)}$\n",
    "  + $\\text{Price-to-Sales Ratio (PX\\_TO\\_SALES\\_RATIO)}$\n",
    "  + $\\text{Earnings Yield (EARN\\_YLD)}$\n",
    "  \n",
    "- $\\textbf{Market Metrics:}$\n",
    "  + $\\text{Volatility Index (VIX)}$\n",
    "  + $\\text{10-Year Treasury Yield (USGG10YR)}$\n",
    "  + $\\text{NAPM Manufacturing PMI (NAPMPMI)}$\n",
    "  + $\\text{Consumer Confidence Index (CONCCONF)}$"
   ]
  },
  {
   "cell_type": "markdown",
   "metadata": {},
   "source": [
    "### $\\textbf{\\textit{Market Metrics:}}$\n",
    "### $\\text{10-Year Treasury Yield (USGG10YR)}$"
   ]
  },
  {
   "cell_type": "code",
   "execution_count": 49,
   "metadata": {},
   "outputs": [],
   "source": [
    "us_treasury_yeild = pd.read_csv(\"../data/us_treasury_yields_daily.csv\")"
   ]
  },
  {
   "cell_type": "code",
   "execution_count": 50,
   "metadata": {},
   "outputs": [
    {
     "data": {
      "text/html": [
       "<div>\n",
       "<style scoped>\n",
       "    .dataframe tbody tr th:only-of-type {\n",
       "        vertical-align: middle;\n",
       "    }\n",
       "\n",
       "    .dataframe tbody tr th {\n",
       "        vertical-align: top;\n",
       "    }\n",
       "\n",
       "    .dataframe thead th {\n",
       "        text-align: right;\n",
       "    }\n",
       "</style>\n",
       "<table border=\"1\" class=\"dataframe\">\n",
       "  <thead>\n",
       "    <tr style=\"text-align: right;\">\n",
       "      <th></th>\n",
       "      <th>date</th>\n",
       "      <th>US1M</th>\n",
       "      <th>US3M</th>\n",
       "      <th>US6M</th>\n",
       "      <th>US1Y</th>\n",
       "      <th>US2Y</th>\n",
       "      <th>US3Y</th>\n",
       "      <th>US5Y</th>\n",
       "      <th>US7Y</th>\n",
       "      <th>US10Y</th>\n",
       "      <th>US20Y</th>\n",
       "      <th>US30Y</th>\n",
       "    </tr>\n",
       "  </thead>\n",
       "  <tbody>\n",
       "    <tr>\n",
       "      <th>0</th>\n",
       "      <td>1962-01-02</td>\n",
       "      <td>NaN</td>\n",
       "      <td>NaN</td>\n",
       "      <td>NaN</td>\n",
       "      <td>3.22</td>\n",
       "      <td>NaN</td>\n",
       "      <td>3.70</td>\n",
       "      <td>3.88</td>\n",
       "      <td>NaN</td>\n",
       "      <td>4.06</td>\n",
       "      <td>4.07</td>\n",
       "      <td>NaN</td>\n",
       "    </tr>\n",
       "    <tr>\n",
       "      <th>1</th>\n",
       "      <td>1962-01-03</td>\n",
       "      <td>NaN</td>\n",
       "      <td>NaN</td>\n",
       "      <td>NaN</td>\n",
       "      <td>3.24</td>\n",
       "      <td>NaN</td>\n",
       "      <td>3.70</td>\n",
       "      <td>3.87</td>\n",
       "      <td>NaN</td>\n",
       "      <td>4.03</td>\n",
       "      <td>4.07</td>\n",
       "      <td>NaN</td>\n",
       "    </tr>\n",
       "    <tr>\n",
       "      <th>2</th>\n",
       "      <td>1962-01-04</td>\n",
       "      <td>NaN</td>\n",
       "      <td>NaN</td>\n",
       "      <td>NaN</td>\n",
       "      <td>3.24</td>\n",
       "      <td>NaN</td>\n",
       "      <td>3.69</td>\n",
       "      <td>3.86</td>\n",
       "      <td>NaN</td>\n",
       "      <td>3.99</td>\n",
       "      <td>4.06</td>\n",
       "      <td>NaN</td>\n",
       "    </tr>\n",
       "    <tr>\n",
       "      <th>3</th>\n",
       "      <td>1962-01-05</td>\n",
       "      <td>NaN</td>\n",
       "      <td>NaN</td>\n",
       "      <td>NaN</td>\n",
       "      <td>3.26</td>\n",
       "      <td>NaN</td>\n",
       "      <td>3.71</td>\n",
       "      <td>3.89</td>\n",
       "      <td>NaN</td>\n",
       "      <td>4.02</td>\n",
       "      <td>4.07</td>\n",
       "      <td>NaN</td>\n",
       "    </tr>\n",
       "    <tr>\n",
       "      <th>4</th>\n",
       "      <td>1962-01-08</td>\n",
       "      <td>NaN</td>\n",
       "      <td>NaN</td>\n",
       "      <td>NaN</td>\n",
       "      <td>3.31</td>\n",
       "      <td>NaN</td>\n",
       "      <td>3.71</td>\n",
       "      <td>3.91</td>\n",
       "      <td>NaN</td>\n",
       "      <td>4.03</td>\n",
       "      <td>4.08</td>\n",
       "      <td>NaN</td>\n",
       "    </tr>\n",
       "  </tbody>\n",
       "</table>\n",
       "</div>"
      ],
      "text/plain": [
       "         date  US1M  US3M  US6M  US1Y  US2Y  US3Y  US5Y  US7Y  US10Y  US20Y  \\\n",
       "0  1962-01-02   NaN   NaN   NaN  3.22   NaN  3.70  3.88   NaN   4.06   4.07   \n",
       "1  1962-01-03   NaN   NaN   NaN  3.24   NaN  3.70  3.87   NaN   4.03   4.07   \n",
       "2  1962-01-04   NaN   NaN   NaN  3.24   NaN  3.69  3.86   NaN   3.99   4.06   \n",
       "3  1962-01-05   NaN   NaN   NaN  3.26   NaN  3.71  3.89   NaN   4.02   4.07   \n",
       "4  1962-01-08   NaN   NaN   NaN  3.31   NaN  3.71  3.91   NaN   4.03   4.08   \n",
       "\n",
       "   US30Y  \n",
       "0    NaN  \n",
       "1    NaN  \n",
       "2    NaN  \n",
       "3    NaN  \n",
       "4    NaN  "
      ]
     },
     "execution_count": 50,
     "metadata": {},
     "output_type": "execute_result"
    }
   ],
   "source": [
    "us_treasury_yeild.head()"
   ]
  },
  {
   "cell_type": "code",
   "execution_count": 51,
   "metadata": {},
   "outputs": [],
   "source": [
    "us_treasury_yeild_10Y = us_treasury_yeild[[\"date\", \"US10Y\"]].copy()\n",
    "del us_treasury_yeild"
   ]
  },
  {
   "cell_type": "code",
   "execution_count": 52,
   "metadata": {},
   "outputs": [],
   "source": [
    "us_treasury_yeild_10Y[\"date\"] = pd.to_datetime(us_treasury_yeild_10Y[\"date\"], format=\"%Y-%m-%d\", yearfirst=True)"
   ]
  },
  {
   "cell_type": "code",
   "execution_count": 53,
   "metadata": {},
   "outputs": [],
   "source": [
    "us_treasury_yeild_10Y.rename(columns={\"date\": \"Date\", \"US10Y\": \"USGG10YR_PX_LAST\"}, inplace=True)"
   ]
  },
  {
   "cell_type": "code",
   "execution_count": 54,
   "metadata": {},
   "outputs": [
    {
     "name": "stdout",
     "output_type": "stream",
     "text": [
      "<class 'pandas.core.frame.DataFrame'>\n",
      "RangeIndex: 16299 entries, 0 to 16298\n",
      "Data columns (total 2 columns):\n",
      " #   Column            Non-Null Count  Dtype         \n",
      "---  ------            --------------  -----         \n",
      " 0   Date              16299 non-null  datetime64[ns]\n",
      " 1   USGG10YR_PX_LAST  15604 non-null  float64       \n",
      "dtypes: datetime64[ns](1), float64(1)\n",
      "memory usage: 254.8 KB\n"
     ]
    }
   ],
   "source": [
    "us_treasury_yeild_10Y.info()"
   ]
  },
  {
   "cell_type": "code",
   "execution_count": 55,
   "metadata": {},
   "outputs": [
    {
     "data": {
      "text/plain": [
       "Index(['Date', ' Open', ' High', ' Low', ' Close'], dtype='object')"
      ]
     },
     "execution_count": 55,
     "metadata": {},
     "output_type": "execute_result"
    }
   ],
   "source": [
    "spx_500.columns"
   ]
  },
  {
   "cell_type": "code",
   "execution_count": 56,
   "metadata": {},
   "outputs": [],
   "source": [
    "spx_500 = pd.merge(spx_500, us_treasury_yeild_10Y, on=\"Date\", how=\"left\")"
   ]
  },
  {
   "cell_type": "markdown",
   "metadata": {},
   "source": [
    "### $\\text{Volatility Index (VIX)}$"
   ]
  },
  {
   "cell_type": "code",
   "execution_count": 59,
   "metadata": {},
   "outputs": [],
   "source": [
    "vix_daily = pd.read_csv(\"../data/vix_daily.csv\")"
   ]
  },
  {
   "cell_type": "code",
   "execution_count": 60,
   "metadata": {},
   "outputs": [
    {
     "data": {
      "text/html": [
       "<div>\n",
       "<style scoped>\n",
       "    .dataframe tbody tr th:only-of-type {\n",
       "        vertical-align: middle;\n",
       "    }\n",
       "\n",
       "    .dataframe tbody tr th {\n",
       "        vertical-align: top;\n",
       "    }\n",
       "\n",
       "    .dataframe thead th {\n",
       "        text-align: right;\n",
       "    }\n",
       "</style>\n",
       "<table border=\"1\" class=\"dataframe\">\n",
       "  <thead>\n",
       "    <tr style=\"text-align: right;\">\n",
       "      <th></th>\n",
       "      <th>date</th>\n",
       "      <th>open</th>\n",
       "      <th>high</th>\n",
       "      <th>low</th>\n",
       "      <th>close</th>\n",
       "    </tr>\n",
       "  </thead>\n",
       "  <tbody>\n",
       "    <tr>\n",
       "      <th>0</th>\n",
       "      <td>1990-01-02</td>\n",
       "      <td>17.240000</td>\n",
       "      <td>17.240000</td>\n",
       "      <td>17.240000</td>\n",
       "      <td>17.240000</td>\n",
       "    </tr>\n",
       "    <tr>\n",
       "      <th>1</th>\n",
       "      <td>1990-01-03</td>\n",
       "      <td>18.190001</td>\n",
       "      <td>18.190001</td>\n",
       "      <td>18.190001</td>\n",
       "      <td>18.190001</td>\n",
       "    </tr>\n",
       "    <tr>\n",
       "      <th>2</th>\n",
       "      <td>1990-01-04</td>\n",
       "      <td>19.219999</td>\n",
       "      <td>19.219999</td>\n",
       "      <td>19.219999</td>\n",
       "      <td>19.219999</td>\n",
       "    </tr>\n",
       "    <tr>\n",
       "      <th>3</th>\n",
       "      <td>1990-01-05</td>\n",
       "      <td>20.110001</td>\n",
       "      <td>20.110001</td>\n",
       "      <td>20.110001</td>\n",
       "      <td>20.110001</td>\n",
       "    </tr>\n",
       "    <tr>\n",
       "      <th>4</th>\n",
       "      <td>1990-01-08</td>\n",
       "      <td>20.260000</td>\n",
       "      <td>20.260000</td>\n",
       "      <td>20.260000</td>\n",
       "      <td>20.260000</td>\n",
       "    </tr>\n",
       "  </tbody>\n",
       "</table>\n",
       "</div>"
      ],
      "text/plain": [
       "         date       open       high        low      close\n",
       "0  1990-01-02  17.240000  17.240000  17.240000  17.240000\n",
       "1  1990-01-03  18.190001  18.190001  18.190001  18.190001\n",
       "2  1990-01-04  19.219999  19.219999  19.219999  19.219999\n",
       "3  1990-01-05  20.110001  20.110001  20.110001  20.110001\n",
       "4  1990-01-08  20.260000  20.260000  20.260000  20.260000"
      ]
     },
     "execution_count": 60,
     "metadata": {},
     "output_type": "execute_result"
    }
   ],
   "source": [
    "vix_daily.head()"
   ]
  },
  {
   "cell_type": "code",
   "execution_count": 61,
   "metadata": {},
   "outputs": [
    {
     "name": "stdout",
     "output_type": "stream",
     "text": [
      "<class 'pandas.core.frame.DataFrame'>\n",
      "RangeIndex: 8685 entries, 0 to 8684\n",
      "Data columns (total 5 columns):\n",
      " #   Column  Non-Null Count  Dtype  \n",
      "---  ------  --------------  -----  \n",
      " 0   date    8685 non-null   object \n",
      " 1   open    8685 non-null   float64\n",
      " 2   high    8685 non-null   float64\n",
      " 3   low     8685 non-null   float64\n",
      " 4   close   8685 non-null   float64\n",
      "dtypes: float64(4), object(1)\n",
      "memory usage: 339.4+ KB\n"
     ]
    }
   ],
   "source": [
    "vix_daily.info()"
   ]
  },
  {
   "cell_type": "code",
   "execution_count": 62,
   "metadata": {},
   "outputs": [],
   "source": [
    "vix_daily[\"date\"] = pd.to_datetime(vix_daily[\"date\"], yearfirst=True, format=\"%Y-%m-%d\")"
   ]
  },
  {
   "cell_type": "code",
   "execution_count": 63,
   "metadata": {},
   "outputs": [
    {
     "name": "stdout",
     "output_type": "stream",
     "text": [
      "<class 'pandas.core.frame.DataFrame'>\n",
      "RangeIndex: 8685 entries, 0 to 8684\n",
      "Data columns (total 5 columns):\n",
      " #   Column  Non-Null Count  Dtype         \n",
      "---  ------  --------------  -----         \n",
      " 0   date    8685 non-null   datetime64[ns]\n",
      " 1   open    8685 non-null   float64       \n",
      " 2   high    8685 non-null   float64       \n",
      " 3   low     8685 non-null   float64       \n",
      " 4   close   8685 non-null   float64       \n",
      "dtypes: datetime64[ns](1), float64(4)\n",
      "memory usage: 339.4 KB\n"
     ]
    }
   ],
   "source": [
    "vix_daily.info()"
   ]
  },
  {
   "cell_type": "code",
   "execution_count": 64,
   "metadata": {},
   "outputs": [],
   "source": [
    "vix_px_last = vix_daily[[\"date\", \"close\"]].copy()\n",
    "del vix_daily"
   ]
  },
  {
   "cell_type": "code",
   "execution_count": 65,
   "metadata": {},
   "outputs": [],
   "source": [
    "vix_px_last.rename(columns={\"date\": \"Date\", \"close\": \"VIX_PX_CLOSE\"}, inplace=True)"
   ]
  },
  {
   "cell_type": "code",
   "execution_count": 78,
   "metadata": {},
   "outputs": [
    {
     "data": {
      "text/plain": [
       "Index(['Date', 'VIX_PX_LAST'], dtype='object')"
      ]
     },
     "execution_count": 78,
     "metadata": {},
     "output_type": "execute_result"
    }
   ],
   "source": [
    "vix_px_last.columns"
   ]
  },
  {
   "cell_type": "code",
   "execution_count": 79,
   "metadata": {},
   "outputs": [],
   "source": [
    "spx_500 = pd.merge(spx_500, vix_px_last, how=\"left\", on=\"Date\")"
   ]
  },
  {
   "cell_type": "code",
   "execution_count": 76,
   "metadata": {},
   "outputs": [
    {
     "data": {
      "text/plain": [
       "Index(['Date', 'PX_OPEN', 'PX_HIGH', 'PX_LOW', 'PX_CLOSE', 'USGG10YR_PX_LAST',\n",
       "       'PX_HIGH_LOW_DIFFERENCE', 'MOVING_AVG_50D', 'MOVING_AVG_200D'],\n",
       "      dtype='object')"
      ]
     },
     "execution_count": 76,
     "metadata": {},
     "output_type": "execute_result"
    }
   ],
   "source": [
    "spx_500.columns"
   ]
  },
  {
   "cell_type": "markdown",
   "metadata": {},
   "source": [
    "### $\\text{NAPM Manufacturing PMI (NAPMPMI)}$\n",
    "\n",
    "link: https://www.investopedia.com/terms/p/pmi.asp\n",
    "\n",
    "> $\\textit{\n",
    "\\textbf{What Is the Purchasing Managers' Index (PMI)?}}\\\\\n",
    "\\text{\n",
    "The Purchasing Managers' Index (PMI) is an indicator of the prevailing direction of economic trends in the manufacturing and service}\\\\\\text{sectors. The indicator is compiled and released monthly by the Institute for Supply Management (ISM), a nonprofit supply management}\\\\\n",
    "\\text{organization.}$\n",
    "\n",
    "> $\\text{It is a diffusion index that summarizes whether market conditions are expanding, staying the same, or contracting, as viewed by}\\\\\\text{purchasing managers. The purpose of the PMI is to provide information about current and future business conditions to company}\n",
    "\\text{decision-makers, analysts, and investors.}$\n",
    "\n",
    "> $\\textbf{Formula and Calculation of the Purchasing Managers' Index (PMI)} $\n",
    "$\\text{The PMI is calculated as follows:}$\n",
    "$$PMI = (P1 * 1) + (P2 * 0.5) + (P3 * 0)$$\n",
    "$\\textit{Where:}$\n",
    "$\\\\\n",
    "P1 = \\text{percentage of answers reporting an improvement}  \\\\\n",
    "P2 = \\text{percentage of answers reporting no change} \\\\\n",
    "P3 = \\text{percentage of answers reporting a deterioration}$"
   ]
  },
  {
   "cell_type": "code",
   "execution_count": 123,
   "metadata": {},
   "outputs": [],
   "source": [
    "pmi_index = pd.read_csv(\"../data/ISM-pmi-pm.csv\")"
   ]
  },
  {
   "cell_type": "code",
   "execution_count": 128,
   "metadata": {},
   "outputs": [
    {
     "data": {
      "text/html": [
       "<div>\n",
       "<style scoped>\n",
       "    .dataframe tbody tr th:only-of-type {\n",
       "        vertical-align: middle;\n",
       "    }\n",
       "\n",
       "    .dataframe tbody tr th {\n",
       "        vertical-align: top;\n",
       "    }\n",
       "\n",
       "    .dataframe thead th {\n",
       "        text-align: right;\n",
       "    }\n",
       "</style>\n",
       "<table border=\"1\" class=\"dataframe\">\n",
       "  <thead>\n",
       "    <tr style=\"text-align: right;\">\n",
       "      <th></th>\n",
       "      <th>period</th>\n",
       "      <th>PMI (ISM/pmi/pm)</th>\n",
       "    </tr>\n",
       "  </thead>\n",
       "  <tbody>\n",
       "    <tr>\n",
       "      <th>0</th>\n",
       "      <td>2020-05</td>\n",
       "      <td>43.1</td>\n",
       "    </tr>\n",
       "    <tr>\n",
       "      <th>1</th>\n",
       "      <td>2020-06</td>\n",
       "      <td>52.2</td>\n",
       "    </tr>\n",
       "    <tr>\n",
       "      <th>2</th>\n",
       "      <td>2020-07</td>\n",
       "      <td>53.7</td>\n",
       "    </tr>\n",
       "    <tr>\n",
       "      <th>3</th>\n",
       "      <td>2020-08</td>\n",
       "      <td>55.6</td>\n",
       "    </tr>\n",
       "    <tr>\n",
       "      <th>4</th>\n",
       "      <td>2020-09</td>\n",
       "      <td>55.7</td>\n",
       "    </tr>\n",
       "  </tbody>\n",
       "</table>\n",
       "</div>"
      ],
      "text/plain": [
       "    period  PMI (ISM/pmi/pm)\n",
       "0  2020-05              43.1\n",
       "1  2020-06              52.2\n",
       "2  2020-07              53.7\n",
       "3  2020-08              55.6\n",
       "4  2020-09              55.7"
      ]
     },
     "execution_count": 128,
     "metadata": {},
     "output_type": "execute_result"
    }
   ],
   "source": [
    "pmi_index.head()"
   ]
  },
  {
   "cell_type": "code",
   "execution_count": 147,
   "metadata": {},
   "outputs": [],
   "source": [
    "map_date_to_pmi = pmi_index.set_index(\"period\").to_dict().get(\"PMI (ISM/pmi/pm)\")\n",
    "def map_date_pmi(x: pd.Series) -> float:\n",
    "    year_month = x[\"Date\"].strftime(\"%Y-%m\")\n",
    "    pmi = map_date_to_pmi.get(year_month, np.nan)\n",
    "    return pmi\n"
   ]
  },
  {
   "cell_type": "code",
   "execution_count": 150,
   "metadata": {},
   "outputs": [],
   "source": [
    "spx_500[\"NAPMPMI\"] = spx_500.apply(map_date_pmi, axis=1)"
   ]
  },
  {
   "cell_type": "markdown",
   "metadata": {},
   "source": [
    "### $\\text{Consumer Confidence Index (CONCCONF)}$"
   ]
  },
  {
   "cell_type": "code",
   "execution_count": 158,
   "metadata": {},
   "outputs": [],
   "source": [
    "consumer_confidence_index = pd.read_csv(\"../data/export-2025-02-11T17_37_10.215Z.csv\", header=2)"
   ]
  },
  {
   "cell_type": "code",
   "execution_count": 159,
   "metadata": {},
   "outputs": [
    {
     "data": {
      "text/html": [
       "<div>\n",
       "<style scoped>\n",
       "    .dataframe tbody tr th:only-of-type {\n",
       "        vertical-align: middle;\n",
       "    }\n",
       "\n",
       "    .dataframe tbody tr th {\n",
       "        vertical-align: top;\n",
       "    }\n",
       "\n",
       "    .dataframe thead th {\n",
       "        text-align: right;\n",
       "    }\n",
       "</style>\n",
       "<table border=\"1\" class=\"dataframe\">\n",
       "  <thead>\n",
       "    <tr style=\"text-align: right;\">\n",
       "      <th></th>\n",
       "      <th>Category</th>\n",
       "      <th>OECD</th>\n",
       "    </tr>\n",
       "  </thead>\n",
       "  <tbody>\n",
       "    <tr>\n",
       "      <th>0</th>\n",
       "      <td>2013-09-01 00:00:00</td>\n",
       "      <td>99.57681</td>\n",
       "    </tr>\n",
       "    <tr>\n",
       "      <th>1</th>\n",
       "      <td>2013-10-01 00:00:00</td>\n",
       "      <td>99.50415</td>\n",
       "    </tr>\n",
       "    <tr>\n",
       "      <th>2</th>\n",
       "      <td>2013-11-01 00:00:00</td>\n",
       "      <td>99.53159</td>\n",
       "    </tr>\n",
       "    <tr>\n",
       "      <th>3</th>\n",
       "      <td>2013-12-01 00:00:00</td>\n",
       "      <td>99.61710</td>\n",
       "    </tr>\n",
       "    <tr>\n",
       "      <th>4</th>\n",
       "      <td>2014-01-01 00:00:00</td>\n",
       "      <td>99.67163</td>\n",
       "    </tr>\n",
       "    <tr>\n",
       "      <th>...</th>\n",
       "      <td>...</td>\n",
       "      <td>...</td>\n",
       "    </tr>\n",
       "    <tr>\n",
       "      <th>131</th>\n",
       "      <td>2024-08-01 00:00:00</td>\n",
       "      <td>98.95267</td>\n",
       "    </tr>\n",
       "    <tr>\n",
       "      <th>132</th>\n",
       "      <td>2024-09-01 00:00:00</td>\n",
       "      <td>99.02384</td>\n",
       "    </tr>\n",
       "    <tr>\n",
       "      <th>133</th>\n",
       "      <td>2024-10-01 00:00:00</td>\n",
       "      <td>99.08997</td>\n",
       "    </tr>\n",
       "    <tr>\n",
       "      <th>134</th>\n",
       "      <td>2024-11-01 00:00:00</td>\n",
       "      <td>99.09577</td>\n",
       "    </tr>\n",
       "    <tr>\n",
       "      <th>135</th>\n",
       "      <td>2024-12-01 00:00:00</td>\n",
       "      <td>99.04737</td>\n",
       "    </tr>\n",
       "  </tbody>\n",
       "</table>\n",
       "<p>136 rows × 2 columns</p>\n",
       "</div>"
      ],
      "text/plain": [
       "                Category      OECD\n",
       "0    2013-09-01 00:00:00  99.57681\n",
       "1    2013-10-01 00:00:00  99.50415\n",
       "2    2013-11-01 00:00:00  99.53159\n",
       "3    2013-12-01 00:00:00  99.61710\n",
       "4    2014-01-01 00:00:00  99.67163\n",
       "..                   ...       ...\n",
       "131  2024-08-01 00:00:00  98.95267\n",
       "132  2024-09-01 00:00:00  99.02384\n",
       "133  2024-10-01 00:00:00  99.08997\n",
       "134  2024-11-01 00:00:00  99.09577\n",
       "135  2024-12-01 00:00:00  99.04737\n",
       "\n",
       "[136 rows x 2 columns]"
      ]
     },
     "execution_count": 159,
     "metadata": {},
     "output_type": "execute_result"
    }
   ],
   "source": [
    "consumer_confidence_index"
   ]
  },
  {
   "cell_type": "code",
   "execution_count": 170,
   "metadata": {},
   "outputs": [],
   "source": [
    "consumer_confidence_index[\"Category\"] = pd.to_datetime(consumer_confidence_index[\"Category\"], format=\"%Y-%m-%d %H:%M:%S\")\n",
    "consumer_confidence_index[\"Category\"] = consumer_confidence_index[\"Category\"].dt.strftime(\"%Y-%m\")"
   ]
  },
  {
   "cell_type": "code",
   "execution_count": 173,
   "metadata": {},
   "outputs": [
    {
     "data": {
      "text/html": [
       "<div>\n",
       "<style scoped>\n",
       "    .dataframe tbody tr th:only-of-type {\n",
       "        vertical-align: middle;\n",
       "    }\n",
       "\n",
       "    .dataframe tbody tr th {\n",
       "        vertical-align: top;\n",
       "    }\n",
       "\n",
       "    .dataframe thead th {\n",
       "        text-align: right;\n",
       "    }\n",
       "</style>\n",
       "<table border=\"1\" class=\"dataframe\">\n",
       "  <thead>\n",
       "    <tr style=\"text-align: right;\">\n",
       "      <th></th>\n",
       "      <th>Category</th>\n",
       "      <th>OECD</th>\n",
       "    </tr>\n",
       "  </thead>\n",
       "  <tbody>\n",
       "    <tr>\n",
       "      <th>0</th>\n",
       "      <td>2013-09</td>\n",
       "      <td>99.57681</td>\n",
       "    </tr>\n",
       "    <tr>\n",
       "      <th>1</th>\n",
       "      <td>2013-10</td>\n",
       "      <td>99.50415</td>\n",
       "    </tr>\n",
       "    <tr>\n",
       "      <th>2</th>\n",
       "      <td>2013-11</td>\n",
       "      <td>99.53159</td>\n",
       "    </tr>\n",
       "    <tr>\n",
       "      <th>3</th>\n",
       "      <td>2013-12</td>\n",
       "      <td>99.61710</td>\n",
       "    </tr>\n",
       "    <tr>\n",
       "      <th>4</th>\n",
       "      <td>2014-01</td>\n",
       "      <td>99.67163</td>\n",
       "    </tr>\n",
       "    <tr>\n",
       "      <th>...</th>\n",
       "      <td>...</td>\n",
       "      <td>...</td>\n",
       "    </tr>\n",
       "    <tr>\n",
       "      <th>131</th>\n",
       "      <td>2024-08</td>\n",
       "      <td>98.95267</td>\n",
       "    </tr>\n",
       "    <tr>\n",
       "      <th>132</th>\n",
       "      <td>2024-09</td>\n",
       "      <td>99.02384</td>\n",
       "    </tr>\n",
       "    <tr>\n",
       "      <th>133</th>\n",
       "      <td>2024-10</td>\n",
       "      <td>99.08997</td>\n",
       "    </tr>\n",
       "    <tr>\n",
       "      <th>134</th>\n",
       "      <td>2024-11</td>\n",
       "      <td>99.09577</td>\n",
       "    </tr>\n",
       "    <tr>\n",
       "      <th>135</th>\n",
       "      <td>2024-12</td>\n",
       "      <td>99.04737</td>\n",
       "    </tr>\n",
       "  </tbody>\n",
       "</table>\n",
       "<p>136 rows × 2 columns</p>\n",
       "</div>"
      ],
      "text/plain": [
       "    Category      OECD\n",
       "0    2013-09  99.57681\n",
       "1    2013-10  99.50415\n",
       "2    2013-11  99.53159\n",
       "3    2013-12  99.61710\n",
       "4    2014-01  99.67163\n",
       "..       ...       ...\n",
       "131  2024-08  98.95267\n",
       "132  2024-09  99.02384\n",
       "133  2024-10  99.08997\n",
       "134  2024-11  99.09577\n",
       "135  2024-12  99.04737\n",
       "\n",
       "[136 rows x 2 columns]"
      ]
     },
     "execution_count": 173,
     "metadata": {},
     "output_type": "execute_result"
    }
   ],
   "source": [
    "consumer_confidence_index"
   ]
  },
  {
   "cell_type": "code",
   "execution_count": 165,
   "metadata": {},
   "outputs": [
    {
     "data": {
      "text/plain": [
       "Index(['Category', 'OECD'], dtype='object')"
      ]
     },
     "execution_count": 165,
     "metadata": {},
     "output_type": "execute_result"
    }
   ],
   "source": [
    "consumer_confidence_index.columns"
   ]
  },
  {
   "cell_type": "code",
   "execution_count": 183,
   "metadata": {},
   "outputs": [],
   "source": [
    "map_date_to_concconf = consumer_confidence_index.set_index(\"Category\").to_dict().get(\"OECD\")\n",
    "def map_date_concconf(x: pd.Series) -> float:\n",
    "    year_month = x[\"Date\"].strftime(\"%Y-%m\")\n",
    "    oecd = map_date_to_concconf.get(year_month, np.nan)\n",
    "    return oecd"
   ]
  },
  {
   "cell_type": "code",
   "execution_count": 185,
   "metadata": {},
   "outputs": [],
   "source": [
    "spx_500[\"CONCCONF\"] = spx_500.apply(map_date_concconf, axis=1)"
   ]
  },
  {
   "cell_type": "code",
   "execution_count": 66,
   "metadata": {},
   "outputs": [],
   "source": [
    "# FIX: Remove leading whitespace found in column name `Open`, `Close`, `High`, and `Low`\n",
    "spx_500.rename(columns=str.strip, inplace=True)"
   ]
  },
  {
   "cell_type": "code",
   "execution_count": 67,
   "metadata": {},
   "outputs": [],
   "source": [
    "# FIX: Substitute current column names with those found in the research paper\n",
    "col_names_to_sub =  {\"Open\": \"PX_OPEN\", \"Close\": \"PX_CLOSE\", \"High\": \"PX_HIGH\", \"Low\": \"PX_LOW\"}\n",
    "spx_500.rename(columns=col_names_to_sub, inplace=True)"
   ]
  },
  {
   "cell_type": "code",
   "execution_count": 82,
   "metadata": {},
   "outputs": [
    {
     "data": {
      "text/plain": [
       "Index(['Date', 'PX_OPEN', 'PX_HIGH', 'PX_LOW', 'PX_CLOSE', 'USGG10YR_PX_LAST',\n",
       "       'PX_HIGH_LOW_DIFFERENCE', 'MOVING_AVG_50D', 'MOVING_AVG_200D',\n",
       "       'VIX_PX_LAST'],\n",
       "      dtype='object')"
      ]
     },
     "execution_count": 82,
     "metadata": {},
     "output_type": "execute_result"
    }
   ],
   "source": [
    "spx_500.columns"
   ]
  },
  {
   "cell_type": "code",
   "execution_count": 69,
   "metadata": {},
   "outputs": [],
   "source": [
    "# NEW COLUMN (PX_HIGH_LOW_DIFFERENCE): difference between the `PX_HIGH` and `PX_LOW`\n",
    "spx_500[\"PX_HIGH_LOW_DIFFERENCE\"] = spx_500[\"PX_HIGH\"] - spx_500[\"PX_LOW\"]"
   ]
  },
  {
   "cell_type": "code",
   "execution_count": 70,
   "metadata": {},
   "outputs": [
    {
     "data": {
      "text/html": [
       "<div>\n",
       "<style scoped>\n",
       "    .dataframe tbody tr th:only-of-type {\n",
       "        vertical-align: middle;\n",
       "    }\n",
       "\n",
       "    .dataframe tbody tr th {\n",
       "        vertical-align: top;\n",
       "    }\n",
       "\n",
       "    .dataframe thead th {\n",
       "        text-align: right;\n",
       "    }\n",
       "</style>\n",
       "<table border=\"1\" class=\"dataframe\">\n",
       "  <thead>\n",
       "    <tr style=\"text-align: right;\">\n",
       "      <th></th>\n",
       "      <th>Date</th>\n",
       "      <th>PX_OPEN</th>\n",
       "      <th>PX_HIGH</th>\n",
       "      <th>PX_LOW</th>\n",
       "      <th>PX_CLOSE</th>\n",
       "      <th>USGG10YR_PX_LAST</th>\n",
       "      <th>PX_HIGH_LOW_DIFFERENCE</th>\n",
       "    </tr>\n",
       "  </thead>\n",
       "  <tbody>\n",
       "    <tr>\n",
       "      <th>0</th>\n",
       "      <td>2013-10-01</td>\n",
       "      <td>1682.41</td>\n",
       "      <td>1696.55</td>\n",
       "      <td>1682.07</td>\n",
       "      <td>1695.00</td>\n",
       "      <td>2.66</td>\n",
       "      <td>14.48</td>\n",
       "    </tr>\n",
       "    <tr>\n",
       "      <th>1</th>\n",
       "      <td>2013-10-02</td>\n",
       "      <td>1691.90</td>\n",
       "      <td>1693.87</td>\n",
       "      <td>1680.34</td>\n",
       "      <td>1693.87</td>\n",
       "      <td>2.63</td>\n",
       "      <td>13.53</td>\n",
       "    </tr>\n",
       "    <tr>\n",
       "      <th>2</th>\n",
       "      <td>2013-10-03</td>\n",
       "      <td>1692.35</td>\n",
       "      <td>1692.35</td>\n",
       "      <td>1670.36</td>\n",
       "      <td>1678.66</td>\n",
       "      <td>2.62</td>\n",
       "      <td>21.99</td>\n",
       "    </tr>\n",
       "    <tr>\n",
       "      <th>3</th>\n",
       "      <td>2013-10-04</td>\n",
       "      <td>1678.79</td>\n",
       "      <td>1691.94</td>\n",
       "      <td>1677.33</td>\n",
       "      <td>1690.50</td>\n",
       "      <td>2.66</td>\n",
       "      <td>14.61</td>\n",
       "    </tr>\n",
       "    <tr>\n",
       "      <th>4</th>\n",
       "      <td>2013-10-07</td>\n",
       "      <td>1687.15</td>\n",
       "      <td>1687.15</td>\n",
       "      <td>1674.70</td>\n",
       "      <td>1676.12</td>\n",
       "      <td>2.65</td>\n",
       "      <td>12.45</td>\n",
       "    </tr>\n",
       "  </tbody>\n",
       "</table>\n",
       "</div>"
      ],
      "text/plain": [
       "        Date  PX_OPEN  PX_HIGH   PX_LOW  PX_CLOSE  USGG10YR_PX_LAST  \\\n",
       "0 2013-10-01  1682.41  1696.55  1682.07   1695.00              2.66   \n",
       "1 2013-10-02  1691.90  1693.87  1680.34   1693.87              2.63   \n",
       "2 2013-10-03  1692.35  1692.35  1670.36   1678.66              2.62   \n",
       "3 2013-10-04  1678.79  1691.94  1677.33   1690.50              2.66   \n",
       "4 2013-10-07  1687.15  1687.15  1674.70   1676.12              2.65   \n",
       "\n",
       "   PX_HIGH_LOW_DIFFERENCE  \n",
       "0                   14.48  \n",
       "1                   13.53  \n",
       "2                   21.99  \n",
       "3                   14.61  \n",
       "4                   12.45  "
      ]
     },
     "execution_count": 70,
     "metadata": {},
     "output_type": "execute_result"
    }
   ],
   "source": [
    "spx_500.head()"
   ]
  },
  {
   "cell_type": "markdown",
   "metadata": {},
   "source": [
    "### $\\text{Moving Average (50\\&200-days)}$\n",
    "\n",
    "$\\textbf{formula:}$\n",
    "$$\\text{MOV\\_AVG}=\\frac{1}{N}\\sum{_{i=0}^{N-1}}\\textit{Close Price}_{i}$$"
   ]
  },
  {
   "cell_type": "code",
   "execution_count": 71,
   "metadata": {},
   "outputs": [],
   "source": [
    "# NEW COLUMN (MOVING_AVG_50D): Moving average for 50 SPX market days\n",
    "spx_500[\"MOVING_AVG_50D\"] = spx_500[\"PX_CLOSE\"].rolling(50).mean()"
   ]
  },
  {
   "cell_type": "code",
   "execution_count": 72,
   "metadata": {},
   "outputs": [],
   "source": [
    "# NEW COLUMN (MOVING_AVG_200D): Moving average for 200 SPX market days\n",
    "spx_500[\"MOVING_AVG_200D\"] = spx_500[\"PX_CLOSE\"].rolling(200).mean()"
   ]
  },
  {
   "cell_type": "markdown",
   "metadata": {},
   "source": [
    "### $\\text{Relative Strength Index (14-days)}$\n",
    "\n",
    "$\\textbf{formula:}$\n",
    "\n",
    "$$\\text{RSI}=100-\\left(\\frac{100}{1+RS}\\right)$$\n",
    "\n",
    "$\\textbf{where}$\n",
    "\n",
    "$$\\text{RS}=\\frac{\\text{Average Gain Over 14 days}}{\\text{Average Loss Over 14 days}}$$\n",
    "\n"
   ]
  },
  {
   "cell_type": "code",
   "execution_count": 73,
   "metadata": {},
   "outputs": [],
   "source": [
    "def compute_rsi(df: pd.DataFrame=spx_500, window: int=14):\n",
    "    delta = df[\"PX_CLOSE\"].diff()\n",
    "    avg_gain = (delta.where(delta > 0, 0)).rolling(window=window).mean()\n",
    "    avg_loss = (delta.where(delta < 0, 0)).rolling(window=window).mean()\n",
    "    RS = avg_gain / avg_loss\n",
    "    df[f\"RSI_{window}D\"] = 100 - (100 / (1 + RS))"
   ]
  },
  {
   "cell_type": "code",
   "execution_count": 74,
   "metadata": {},
   "outputs": [
    {
     "data": {
      "text/html": [
       "<div>\n",
       "<style scoped>\n",
       "    .dataframe tbody tr th:only-of-type {\n",
       "        vertical-align: middle;\n",
       "    }\n",
       "\n",
       "    .dataframe tbody tr th {\n",
       "        vertical-align: top;\n",
       "    }\n",
       "\n",
       "    .dataframe thead th {\n",
       "        text-align: right;\n",
       "    }\n",
       "</style>\n",
       "<table border=\"1\" class=\"dataframe\">\n",
       "  <thead>\n",
       "    <tr style=\"text-align: right;\">\n",
       "      <th></th>\n",
       "      <th>Date</th>\n",
       "      <th>PX_OPEN</th>\n",
       "      <th>PX_HIGH</th>\n",
       "      <th>PX_LOW</th>\n",
       "      <th>PX_CLOSE</th>\n",
       "      <th>USGG10YR_PX_LAST</th>\n",
       "      <th>PX_HIGH_LOW_DIFFERENCE</th>\n",
       "      <th>MOVING_AVG_50D</th>\n",
       "      <th>MOVING_AVG_200D</th>\n",
       "    </tr>\n",
       "  </thead>\n",
       "  <tbody>\n",
       "    <tr>\n",
       "      <th>0</th>\n",
       "      <td>2013-10-01</td>\n",
       "      <td>1682.41</td>\n",
       "      <td>1696.55</td>\n",
       "      <td>1682.07</td>\n",
       "      <td>1695.00</td>\n",
       "      <td>2.66</td>\n",
       "      <td>14.48</td>\n",
       "      <td>NaN</td>\n",
       "      <td>NaN</td>\n",
       "    </tr>\n",
       "    <tr>\n",
       "      <th>1</th>\n",
       "      <td>2013-10-02</td>\n",
       "      <td>1691.90</td>\n",
       "      <td>1693.87</td>\n",
       "      <td>1680.34</td>\n",
       "      <td>1693.87</td>\n",
       "      <td>2.63</td>\n",
       "      <td>13.53</td>\n",
       "      <td>NaN</td>\n",
       "      <td>NaN</td>\n",
       "    </tr>\n",
       "    <tr>\n",
       "      <th>2</th>\n",
       "      <td>2013-10-03</td>\n",
       "      <td>1692.35</td>\n",
       "      <td>1692.35</td>\n",
       "      <td>1670.36</td>\n",
       "      <td>1678.66</td>\n",
       "      <td>2.62</td>\n",
       "      <td>21.99</td>\n",
       "      <td>NaN</td>\n",
       "      <td>NaN</td>\n",
       "    </tr>\n",
       "    <tr>\n",
       "      <th>3</th>\n",
       "      <td>2013-10-04</td>\n",
       "      <td>1678.79</td>\n",
       "      <td>1691.94</td>\n",
       "      <td>1677.33</td>\n",
       "      <td>1690.50</td>\n",
       "      <td>2.66</td>\n",
       "      <td>14.61</td>\n",
       "      <td>NaN</td>\n",
       "      <td>NaN</td>\n",
       "    </tr>\n",
       "    <tr>\n",
       "      <th>4</th>\n",
       "      <td>2013-10-07</td>\n",
       "      <td>1687.15</td>\n",
       "      <td>1687.15</td>\n",
       "      <td>1674.70</td>\n",
       "      <td>1676.12</td>\n",
       "      <td>2.65</td>\n",
       "      <td>12.45</td>\n",
       "      <td>NaN</td>\n",
       "      <td>NaN</td>\n",
       "    </tr>\n",
       "    <tr>\n",
       "      <th>...</th>\n",
       "      <td>...</td>\n",
       "      <td>...</td>\n",
       "      <td>...</td>\n",
       "      <td>...</td>\n",
       "      <td>...</td>\n",
       "      <td>...</td>\n",
       "      <td>...</td>\n",
       "      <td>...</td>\n",
       "      <td>...</td>\n",
       "    </tr>\n",
       "    <tr>\n",
       "      <th>2763</th>\n",
       "      <td>2024-09-24</td>\n",
       "      <td>5727.66</td>\n",
       "      <td>5735.32</td>\n",
       "      <td>5698.99</td>\n",
       "      <td>5732.93</td>\n",
       "      <td>NaN</td>\n",
       "      <td>36.33</td>\n",
       "      <td>5522.2118</td>\n",
       "      <td>5211.58160</td>\n",
       "    </tr>\n",
       "    <tr>\n",
       "      <th>2764</th>\n",
       "      <td>2024-09-25</td>\n",
       "      <td>5733.65</td>\n",
       "      <td>5741.03</td>\n",
       "      <td>5712.06</td>\n",
       "      <td>5722.26</td>\n",
       "      <td>NaN</td>\n",
       "      <td>28.97</td>\n",
       "      <td>5523.3130</td>\n",
       "      <td>5217.26495</td>\n",
       "    </tr>\n",
       "    <tr>\n",
       "      <th>2765</th>\n",
       "      <td>2024-09-26</td>\n",
       "      <td>5762.22</td>\n",
       "      <td>5767.37</td>\n",
       "      <td>5721.01</td>\n",
       "      <td>5745.37</td>\n",
       "      <td>NaN</td>\n",
       "      <td>46.36</td>\n",
       "      <td>5526.4550</td>\n",
       "      <td>5222.96995</td>\n",
       "    </tr>\n",
       "    <tr>\n",
       "      <th>2766</th>\n",
       "      <td>2024-09-27</td>\n",
       "      <td>5755.36</td>\n",
       "      <td>5763.78</td>\n",
       "      <td>5727.34</td>\n",
       "      <td>5738.17</td>\n",
       "      <td>NaN</td>\n",
       "      <td>36.44</td>\n",
       "      <td>5530.3266</td>\n",
       "      <td>5228.54860</td>\n",
       "    </tr>\n",
       "    <tr>\n",
       "      <th>2767</th>\n",
       "      <td>2024-09-30</td>\n",
       "      <td>5726.52</td>\n",
       "      <td>5765.14</td>\n",
       "      <td>5703.53</td>\n",
       "      <td>5762.48</td>\n",
       "      <td>NaN</td>\n",
       "      <td>61.61</td>\n",
       "      <td>5535.4762</td>\n",
       "      <td>5234.14250</td>\n",
       "    </tr>\n",
       "  </tbody>\n",
       "</table>\n",
       "<p>2768 rows × 9 columns</p>\n",
       "</div>"
      ],
      "text/plain": [
       "           Date  PX_OPEN  PX_HIGH   PX_LOW  PX_CLOSE  USGG10YR_PX_LAST  \\\n",
       "0    2013-10-01  1682.41  1696.55  1682.07   1695.00              2.66   \n",
       "1    2013-10-02  1691.90  1693.87  1680.34   1693.87              2.63   \n",
       "2    2013-10-03  1692.35  1692.35  1670.36   1678.66              2.62   \n",
       "3    2013-10-04  1678.79  1691.94  1677.33   1690.50              2.66   \n",
       "4    2013-10-07  1687.15  1687.15  1674.70   1676.12              2.65   \n",
       "...         ...      ...      ...      ...       ...               ...   \n",
       "2763 2024-09-24  5727.66  5735.32  5698.99   5732.93               NaN   \n",
       "2764 2024-09-25  5733.65  5741.03  5712.06   5722.26               NaN   \n",
       "2765 2024-09-26  5762.22  5767.37  5721.01   5745.37               NaN   \n",
       "2766 2024-09-27  5755.36  5763.78  5727.34   5738.17               NaN   \n",
       "2767 2024-09-30  5726.52  5765.14  5703.53   5762.48               NaN   \n",
       "\n",
       "      PX_HIGH_LOW_DIFFERENCE  MOVING_AVG_50D  MOVING_AVG_200D  \n",
       "0                      14.48             NaN              NaN  \n",
       "1                      13.53             NaN              NaN  \n",
       "2                      21.99             NaN              NaN  \n",
       "3                      14.61             NaN              NaN  \n",
       "4                      12.45             NaN              NaN  \n",
       "...                      ...             ...              ...  \n",
       "2763                   36.33       5522.2118       5211.58160  \n",
       "2764                   28.97       5523.3130       5217.26495  \n",
       "2765                   46.36       5526.4550       5222.96995  \n",
       "2766                   36.44       5530.3266       5228.54860  \n",
       "2767                   61.61       5535.4762       5234.14250  \n",
       "\n",
       "[2768 rows x 9 columns]"
      ]
     },
     "execution_count": 74,
     "metadata": {},
     "output_type": "execute_result"
    }
   ],
   "source": [
    "spx_500"
   ]
  },
  {
   "cell_type": "markdown",
   "metadata": {},
   "source": [
    "### $\\text{30-day Volatility (VOLATILITY 30D)}$\n",
    "\n",
    "$\\text{Stock market volatility is the rate at which a stock's price fluctuates over time. It's a measure of how risky an investment is. \n",
    "}$\n",
    "\n",
    "$\\textit{formula:}$\n",
    "$$\\text{Volatility}=\\text{Standard Deviation of Log Returns over 30 days}\\times\\sqrt{252}$$ "
   ]
  },
  {
   "cell_type": "code",
   "execution_count": 191,
   "metadata": {},
   "outputs": [],
   "source": [
    "spx_500[\"VOLATILITY 30D\"] = (np.log(spx_500[\"PX_CLOSE\"] / spx_500[\"PX_CLOSE\"].shift(1))).rolling(window=30).std() * np.sqrt(252)"
   ]
  },
  {
   "cell_type": "code",
   "execution_count": 192,
   "metadata": {},
   "outputs": [
    {
     "data": {
      "text/html": [
       "<div>\n",
       "<style scoped>\n",
       "    .dataframe tbody tr th:only-of-type {\n",
       "        vertical-align: middle;\n",
       "    }\n",
       "\n",
       "    .dataframe tbody tr th {\n",
       "        vertical-align: top;\n",
       "    }\n",
       "\n",
       "    .dataframe thead th {\n",
       "        text-align: right;\n",
       "    }\n",
       "</style>\n",
       "<table border=\"1\" class=\"dataframe\">\n",
       "  <thead>\n",
       "    <tr style=\"text-align: right;\">\n",
       "      <th></th>\n",
       "      <th>Date</th>\n",
       "      <th>PX_OPEN</th>\n",
       "      <th>PX_HIGH</th>\n",
       "      <th>PX_LOW</th>\n",
       "      <th>PX_CLOSE</th>\n",
       "      <th>USGG10YR_PX_LAST</th>\n",
       "      <th>PX_HIGH_LOW_DIFFERENCE</th>\n",
       "      <th>MOVING_AVG_50D</th>\n",
       "      <th>MOVING_AVG_200D</th>\n",
       "      <th>VIX_PX_LAST</th>\n",
       "      <th>NAPMPMI</th>\n",
       "      <th>CONCCONF</th>\n",
       "      <th>VOLATILITY 30D</th>\n",
       "    </tr>\n",
       "  </thead>\n",
       "  <tbody>\n",
       "    <tr>\n",
       "      <th>0</th>\n",
       "      <td>2013-10-01</td>\n",
       "      <td>1682.41</td>\n",
       "      <td>1696.55</td>\n",
       "      <td>1682.07</td>\n",
       "      <td>1695.00</td>\n",
       "      <td>2.66</td>\n",
       "      <td>14.48</td>\n",
       "      <td>NaN</td>\n",
       "      <td>NaN</td>\n",
       "      <td>15.54</td>\n",
       "      <td>NaN</td>\n",
       "      <td>99.50415</td>\n",
       "      <td>NaN</td>\n",
       "    </tr>\n",
       "    <tr>\n",
       "      <th>1</th>\n",
       "      <td>2013-10-02</td>\n",
       "      <td>1691.90</td>\n",
       "      <td>1693.87</td>\n",
       "      <td>1680.34</td>\n",
       "      <td>1693.87</td>\n",
       "      <td>2.63</td>\n",
       "      <td>13.53</td>\n",
       "      <td>NaN</td>\n",
       "      <td>NaN</td>\n",
       "      <td>16.60</td>\n",
       "      <td>NaN</td>\n",
       "      <td>99.50415</td>\n",
       "      <td>NaN</td>\n",
       "    </tr>\n",
       "    <tr>\n",
       "      <th>2</th>\n",
       "      <td>2013-10-03</td>\n",
       "      <td>1692.35</td>\n",
       "      <td>1692.35</td>\n",
       "      <td>1670.36</td>\n",
       "      <td>1678.66</td>\n",
       "      <td>2.62</td>\n",
       "      <td>21.99</td>\n",
       "      <td>NaN</td>\n",
       "      <td>NaN</td>\n",
       "      <td>17.67</td>\n",
       "      <td>NaN</td>\n",
       "      <td>99.50415</td>\n",
       "      <td>NaN</td>\n",
       "    </tr>\n",
       "    <tr>\n",
       "      <th>3</th>\n",
       "      <td>2013-10-04</td>\n",
       "      <td>1678.79</td>\n",
       "      <td>1691.94</td>\n",
       "      <td>1677.33</td>\n",
       "      <td>1690.50</td>\n",
       "      <td>2.66</td>\n",
       "      <td>14.61</td>\n",
       "      <td>NaN</td>\n",
       "      <td>NaN</td>\n",
       "      <td>16.74</td>\n",
       "      <td>NaN</td>\n",
       "      <td>99.50415</td>\n",
       "      <td>NaN</td>\n",
       "    </tr>\n",
       "    <tr>\n",
       "      <th>4</th>\n",
       "      <td>2013-10-07</td>\n",
       "      <td>1687.15</td>\n",
       "      <td>1687.15</td>\n",
       "      <td>1674.70</td>\n",
       "      <td>1676.12</td>\n",
       "      <td>2.65</td>\n",
       "      <td>12.45</td>\n",
       "      <td>NaN</td>\n",
       "      <td>NaN</td>\n",
       "      <td>19.41</td>\n",
       "      <td>NaN</td>\n",
       "      <td>99.50415</td>\n",
       "      <td>NaN</td>\n",
       "    </tr>\n",
       "  </tbody>\n",
       "</table>\n",
       "</div>"
      ],
      "text/plain": [
       "        Date  PX_OPEN  PX_HIGH   PX_LOW  PX_CLOSE  USGG10YR_PX_LAST  \\\n",
       "0 2013-10-01  1682.41  1696.55  1682.07   1695.00              2.66   \n",
       "1 2013-10-02  1691.90  1693.87  1680.34   1693.87              2.63   \n",
       "2 2013-10-03  1692.35  1692.35  1670.36   1678.66              2.62   \n",
       "3 2013-10-04  1678.79  1691.94  1677.33   1690.50              2.66   \n",
       "4 2013-10-07  1687.15  1687.15  1674.70   1676.12              2.65   \n",
       "\n",
       "   PX_HIGH_LOW_DIFFERENCE  MOVING_AVG_50D  MOVING_AVG_200D  VIX_PX_LAST  \\\n",
       "0                   14.48             NaN              NaN        15.54   \n",
       "1                   13.53             NaN              NaN        16.60   \n",
       "2                   21.99             NaN              NaN        17.67   \n",
       "3                   14.61             NaN              NaN        16.74   \n",
       "4                   12.45             NaN              NaN        19.41   \n",
       "\n",
       "   NAPMPMI  CONCCONF  VOLATILITY 30D  \n",
       "0      NaN  99.50415             NaN  \n",
       "1      NaN  99.50415             NaN  \n",
       "2      NaN  99.50415             NaN  \n",
       "3      NaN  99.50415             NaN  \n",
       "4      NaN  99.50415             NaN  "
      ]
     },
     "execution_count": 192,
     "metadata": {},
     "output_type": "execute_result"
    }
   ],
   "source": [
    "spx_500.head()"
   ]
  },
  {
   "cell_type": "code",
   "execution_count": 193,
   "metadata": {},
   "outputs": [],
   "source": [
    "spx_500.to_csv(\"../data/PreprocessedHistoricalPrices.csv\", index=False)"
   ]
  }
 ],
 "metadata": {
  "kernelspec": {
   "display_name": ".venv",
   "language": "python",
   "name": "python3"
  },
  "language_info": {
   "codemirror_mode": {
    "name": "ipython",
    "version": 3
   },
   "file_extension": ".py",
   "mimetype": "text/x-python",
   "name": "python",
   "nbconvert_exporter": "python",
   "pygments_lexer": "ipython3",
   "version": "3.13.1"
  }
 },
 "nbformat": 4,
 "nbformat_minor": 4
}
