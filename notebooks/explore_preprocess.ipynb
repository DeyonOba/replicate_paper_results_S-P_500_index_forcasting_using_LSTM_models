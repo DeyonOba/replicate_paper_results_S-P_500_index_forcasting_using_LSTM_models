{
 "cells": [
  {
   "cell_type": "code",
   "execution_count": 2,
   "metadata": {},
   "outputs": [],
   "source": [
    "import os\n",
    "from pathlib import Path\n",
    "import pandas as pd"
   ]
  },
  {
   "cell_type": "markdown",
   "metadata": {},
   "source": [
    "## $\\text{Data Loading}$"
   ]
  },
  {
   "cell_type": "code",
   "execution_count": 3,
   "metadata": {},
   "outputs": [],
   "source": [
    "# Running the Ipython notebook from the 'notebooks' directory\n",
    "# The data path should point to '~/*/data' where the dataset is found\n",
    "data_path = Path().absolute().parent.joinpath(\"data\", \"HistoricalPrices.csv\")\n",
    "spx_500 = pd.read_csv(data_path)"
   ]
  },
  {
   "cell_type": "markdown",
   "metadata": {},
   "source": [
    "## $\\text{Data Exploration}$"
   ]
  },
  {
   "cell_type": "code",
   "execution_count": 4,
   "metadata": {},
   "outputs": [
    {
     "data": {
      "text/plain": [
       "(2768, 5)"
      ]
     },
     "execution_count": 4,
     "metadata": {},
     "output_type": "execute_result"
    }
   ],
   "source": [
    "spx_500.shape"
   ]
  },
  {
   "cell_type": "code",
   "execution_count": 5,
   "metadata": {},
   "outputs": [
    {
     "name": "stdout",
     "output_type": "stream",
     "text": [
      "<class 'pandas.core.frame.DataFrame'>\n",
      "RangeIndex: 2768 entries, 0 to 2767\n",
      "Data columns (total 5 columns):\n",
      " #   Column  Non-Null Count  Dtype  \n",
      "---  ------  --------------  -----  \n",
      " 0   Date    2768 non-null   object \n",
      " 1    Open   2768 non-null   float64\n",
      " 2    High   2768 non-null   float64\n",
      " 3    Low    2768 non-null   float64\n",
      " 4    Close  2768 non-null   float64\n",
      "dtypes: float64(4), object(1)\n",
      "memory usage: 108.3+ KB\n"
     ]
    }
   ],
   "source": [
    "spx_500.info()"
   ]
  },
  {
   "cell_type": "code",
   "execution_count": 6,
   "metadata": {},
   "outputs": [
    {
     "data": {
      "text/plain": [
       "np.int64(0)"
      ]
     },
     "execution_count": 6,
     "metadata": {},
     "output_type": "execute_result"
    }
   ],
   "source": [
    "spx_500.duplicated().sum()"
   ]
  },
  {
   "cell_type": "markdown",
   "metadata": {},
   "source": [
    "### $\\text{Observation}$\n",
    "$\\text{The historical S\\&P 500 index dataset has 2767 entries, with no missing data in any column.}$  <br>\n",
    "$\\text{The dataframe columns \\textbf{\\textit{Open}}, \\textbf{\\textit{High}},  \\textbf{\\textit{Low}}, and \\textbf{\\textit{Close}} are properly formated to the correct data type \\textbf{float64}, but \\textbf{\\textit{Date}} is not in a \\textit{datetime} format.}$"
   ]
  },
  {
   "cell_type": "code",
   "execution_count": 7,
   "metadata": {},
   "outputs": [
    {
     "data": {
      "text/html": [
       "<div>\n",
       "<style scoped>\n",
       "    .dataframe tbody tr th:only-of-type {\n",
       "        vertical-align: middle;\n",
       "    }\n",
       "\n",
       "    .dataframe tbody tr th {\n",
       "        vertical-align: top;\n",
       "    }\n",
       "\n",
       "    .dataframe thead th {\n",
       "        text-align: right;\n",
       "    }\n",
       "</style>\n",
       "<table border=\"1\" class=\"dataframe\">\n",
       "  <thead>\n",
       "    <tr style=\"text-align: right;\">\n",
       "      <th></th>\n",
       "      <th>Date</th>\n",
       "      <th>Open</th>\n",
       "      <th>High</th>\n",
       "      <th>Low</th>\n",
       "      <th>Close</th>\n",
       "    </tr>\n",
       "  </thead>\n",
       "  <tbody>\n",
       "    <tr>\n",
       "      <th>0</th>\n",
       "      <td>09/30/24</td>\n",
       "      <td>5726.52</td>\n",
       "      <td>5765.14</td>\n",
       "      <td>5703.53</td>\n",
       "      <td>5762.48</td>\n",
       "    </tr>\n",
       "    <tr>\n",
       "      <th>1</th>\n",
       "      <td>09/27/24</td>\n",
       "      <td>5755.36</td>\n",
       "      <td>5763.78</td>\n",
       "      <td>5727.34</td>\n",
       "      <td>5738.17</td>\n",
       "    </tr>\n",
       "    <tr>\n",
       "      <th>2</th>\n",
       "      <td>09/26/24</td>\n",
       "      <td>5762.22</td>\n",
       "      <td>5767.37</td>\n",
       "      <td>5721.01</td>\n",
       "      <td>5745.37</td>\n",
       "    </tr>\n",
       "    <tr>\n",
       "      <th>3</th>\n",
       "      <td>09/25/24</td>\n",
       "      <td>5733.65</td>\n",
       "      <td>5741.03</td>\n",
       "      <td>5712.06</td>\n",
       "      <td>5722.26</td>\n",
       "    </tr>\n",
       "    <tr>\n",
       "      <th>4</th>\n",
       "      <td>09/24/24</td>\n",
       "      <td>5727.66</td>\n",
       "      <td>5735.32</td>\n",
       "      <td>5698.99</td>\n",
       "      <td>5732.93</td>\n",
       "    </tr>\n",
       "    <tr>\n",
       "      <th>...</th>\n",
       "      <td>...</td>\n",
       "      <td>...</td>\n",
       "      <td>...</td>\n",
       "      <td>...</td>\n",
       "      <td>...</td>\n",
       "    </tr>\n",
       "    <tr>\n",
       "      <th>2763</th>\n",
       "      <td>10/07/13</td>\n",
       "      <td>1687.15</td>\n",
       "      <td>1687.15</td>\n",
       "      <td>1674.70</td>\n",
       "      <td>1676.12</td>\n",
       "    </tr>\n",
       "    <tr>\n",
       "      <th>2764</th>\n",
       "      <td>10/04/13</td>\n",
       "      <td>1678.79</td>\n",
       "      <td>1691.94</td>\n",
       "      <td>1677.33</td>\n",
       "      <td>1690.50</td>\n",
       "    </tr>\n",
       "    <tr>\n",
       "      <th>2765</th>\n",
       "      <td>10/03/13</td>\n",
       "      <td>1692.35</td>\n",
       "      <td>1692.35</td>\n",
       "      <td>1670.36</td>\n",
       "      <td>1678.66</td>\n",
       "    </tr>\n",
       "    <tr>\n",
       "      <th>2766</th>\n",
       "      <td>10/02/13</td>\n",
       "      <td>1691.90</td>\n",
       "      <td>1693.87</td>\n",
       "      <td>1680.34</td>\n",
       "      <td>1693.87</td>\n",
       "    </tr>\n",
       "    <tr>\n",
       "      <th>2767</th>\n",
       "      <td>10/01/13</td>\n",
       "      <td>1682.41</td>\n",
       "      <td>1696.55</td>\n",
       "      <td>1682.07</td>\n",
       "      <td>1695.00</td>\n",
       "    </tr>\n",
       "  </tbody>\n",
       "</table>\n",
       "<p>2768 rows × 5 columns</p>\n",
       "</div>"
      ],
      "text/plain": [
       "          Date     Open     High      Low    Close\n",
       "0     09/30/24  5726.52  5765.14  5703.53  5762.48\n",
       "1     09/27/24  5755.36  5763.78  5727.34  5738.17\n",
       "2     09/26/24  5762.22  5767.37  5721.01  5745.37\n",
       "3     09/25/24  5733.65  5741.03  5712.06  5722.26\n",
       "4     09/24/24  5727.66  5735.32  5698.99  5732.93\n",
       "...        ...      ...      ...      ...      ...\n",
       "2763  10/07/13  1687.15  1687.15  1674.70  1676.12\n",
       "2764  10/04/13  1678.79  1691.94  1677.33  1690.50\n",
       "2765  10/03/13  1692.35  1692.35  1670.36  1678.66\n",
       "2766  10/02/13  1691.90  1693.87  1680.34  1693.87\n",
       "2767  10/01/13  1682.41  1696.55  1682.07  1695.00\n",
       "\n",
       "[2768 rows x 5 columns]"
      ]
     },
     "execution_count": 7,
     "metadata": {},
     "output_type": "execute_result"
    }
   ],
   "source": [
    "spx_500"
   ]
  },
  {
   "cell_type": "code",
   "execution_count": 8,
   "metadata": {},
   "outputs": [],
   "source": [
    "spx_500[\"Date\"] = pd.to_datetime(spx_500[\"Date\"], format=\"%m/%d/%y\", yearfirst=True)"
   ]
  },
  {
   "cell_type": "code",
   "execution_count": 9,
   "metadata": {},
   "outputs": [],
   "source": [
    "spx_500.sort_values(by=\"Date\", ascending=True, ignore_index=True, inplace=True)"
   ]
  },
  {
   "cell_type": "code",
   "execution_count": 10,
   "metadata": {},
   "outputs": [
    {
     "data": {
      "text/plain": [
       "True"
      ]
     },
     "execution_count": 10,
     "metadata": {},
     "output_type": "execute_result"
    }
   ],
   "source": [
    "# CHECK: If the date is montonically increasing\n",
    "spx_500.set_index(\"Date\").index.is_monotonic_increasing"
   ]
  },
  {
   "cell_type": "code",
   "execution_count": 11,
   "metadata": {},
   "outputs": [
    {
     "data": {
      "text/html": [
       "<div>\n",
       "<style scoped>\n",
       "    .dataframe tbody tr th:only-of-type {\n",
       "        vertical-align: middle;\n",
       "    }\n",
       "\n",
       "    .dataframe tbody tr th {\n",
       "        vertical-align: top;\n",
       "    }\n",
       "\n",
       "    .dataframe thead th {\n",
       "        text-align: right;\n",
       "    }\n",
       "</style>\n",
       "<table border=\"1\" class=\"dataframe\">\n",
       "  <thead>\n",
       "    <tr style=\"text-align: right;\">\n",
       "      <th></th>\n",
       "      <th>Date</th>\n",
       "      <th>Open</th>\n",
       "      <th>High</th>\n",
       "      <th>Low</th>\n",
       "      <th>Close</th>\n",
       "    </tr>\n",
       "  </thead>\n",
       "  <tbody>\n",
       "    <tr>\n",
       "      <th>0</th>\n",
       "      <td>2013-10-01</td>\n",
       "      <td>1682.41</td>\n",
       "      <td>1696.55</td>\n",
       "      <td>1682.07</td>\n",
       "      <td>1695.00</td>\n",
       "    </tr>\n",
       "    <tr>\n",
       "      <th>1</th>\n",
       "      <td>2013-10-02</td>\n",
       "      <td>1691.90</td>\n",
       "      <td>1693.87</td>\n",
       "      <td>1680.34</td>\n",
       "      <td>1693.87</td>\n",
       "    </tr>\n",
       "    <tr>\n",
       "      <th>2</th>\n",
       "      <td>2013-10-03</td>\n",
       "      <td>1692.35</td>\n",
       "      <td>1692.35</td>\n",
       "      <td>1670.36</td>\n",
       "      <td>1678.66</td>\n",
       "    </tr>\n",
       "    <tr>\n",
       "      <th>3</th>\n",
       "      <td>2013-10-04</td>\n",
       "      <td>1678.79</td>\n",
       "      <td>1691.94</td>\n",
       "      <td>1677.33</td>\n",
       "      <td>1690.50</td>\n",
       "    </tr>\n",
       "    <tr>\n",
       "      <th>4</th>\n",
       "      <td>2013-10-07</td>\n",
       "      <td>1687.15</td>\n",
       "      <td>1687.15</td>\n",
       "      <td>1674.70</td>\n",
       "      <td>1676.12</td>\n",
       "    </tr>\n",
       "    <tr>\n",
       "      <th>...</th>\n",
       "      <td>...</td>\n",
       "      <td>...</td>\n",
       "      <td>...</td>\n",
       "      <td>...</td>\n",
       "      <td>...</td>\n",
       "    </tr>\n",
       "    <tr>\n",
       "      <th>2763</th>\n",
       "      <td>2024-09-24</td>\n",
       "      <td>5727.66</td>\n",
       "      <td>5735.32</td>\n",
       "      <td>5698.99</td>\n",
       "      <td>5732.93</td>\n",
       "    </tr>\n",
       "    <tr>\n",
       "      <th>2764</th>\n",
       "      <td>2024-09-25</td>\n",
       "      <td>5733.65</td>\n",
       "      <td>5741.03</td>\n",
       "      <td>5712.06</td>\n",
       "      <td>5722.26</td>\n",
       "    </tr>\n",
       "    <tr>\n",
       "      <th>2765</th>\n",
       "      <td>2024-09-26</td>\n",
       "      <td>5762.22</td>\n",
       "      <td>5767.37</td>\n",
       "      <td>5721.01</td>\n",
       "      <td>5745.37</td>\n",
       "    </tr>\n",
       "    <tr>\n",
       "      <th>2766</th>\n",
       "      <td>2024-09-27</td>\n",
       "      <td>5755.36</td>\n",
       "      <td>5763.78</td>\n",
       "      <td>5727.34</td>\n",
       "      <td>5738.17</td>\n",
       "    </tr>\n",
       "    <tr>\n",
       "      <th>2767</th>\n",
       "      <td>2024-09-30</td>\n",
       "      <td>5726.52</td>\n",
       "      <td>5765.14</td>\n",
       "      <td>5703.53</td>\n",
       "      <td>5762.48</td>\n",
       "    </tr>\n",
       "  </tbody>\n",
       "</table>\n",
       "<p>2768 rows × 5 columns</p>\n",
       "</div>"
      ],
      "text/plain": [
       "           Date     Open     High      Low    Close\n",
       "0    2013-10-01  1682.41  1696.55  1682.07  1695.00\n",
       "1    2013-10-02  1691.90  1693.87  1680.34  1693.87\n",
       "2    2013-10-03  1692.35  1692.35  1670.36  1678.66\n",
       "3    2013-10-04  1678.79  1691.94  1677.33  1690.50\n",
       "4    2013-10-07  1687.15  1687.15  1674.70  1676.12\n",
       "...         ...      ...      ...      ...      ...\n",
       "2763 2024-09-24  5727.66  5735.32  5698.99  5732.93\n",
       "2764 2024-09-25  5733.65  5741.03  5712.06  5722.26\n",
       "2765 2024-09-26  5762.22  5767.37  5721.01  5745.37\n",
       "2766 2024-09-27  5755.36  5763.78  5727.34  5738.17\n",
       "2767 2024-09-30  5726.52  5765.14  5703.53  5762.48\n",
       "\n",
       "[2768 rows x 5 columns]"
      ]
     },
     "execution_count": 11,
     "metadata": {},
     "output_type": "execute_result"
    }
   ],
   "source": [
    "spx_500"
   ]
  },
  {
   "cell_type": "markdown",
   "metadata": {},
   "source": [
    "## $\\text{Preprocessing \\& Feature Engineering}$\n"
   ]
  },
  {
   "cell_type": "markdown",
   "metadata": {},
   "source": [
    "- $\\text{50 and 200-day Moving Averages (MOV\\_AVG 50/200D)}$\n",
    "- $\\text{14-day Relative Strength Index (RSI\\_14D)}$\n",
    "- $\\text{Open and Closing Prices (PX\\_OPEN/CLOSE)}$\n",
    "- $\\text{High and Low Prices (PX\\_HIGH/LOW)}$\n",
    "- $\\text{Daily Price High-Low Difference (PX\\_HIGH\\_LOW\\_DIFFERENCE)}$\n",
    "- $\\text{Daily Volume (PX\\_VOLUME)}$\n",
    "- $\\text{30-day Volatility (VOLATILITY\\_30D)}$\n",
    "- $\\text{Beta (BETA\\_ADJ\\_OVERRIDABLE)}$\n",
    "  \n",
    "$\\text{Along with the historical SPX data, the following additional metrics are considered:}$\n",
    "\n",
    "- $\\textbf{SPX Ratios:}$\n",
    "  + $\\text{Price-to-Earnings Ratio (PE\\_RATIO)}$\n",
    "  + $\\text{Price-to-Book Ratio (PX\\_TO\\_BOOK\\_RATIO)}$\n",
    "  + $\\text{Price-to-Sales Ratio (PX\\_TO\\_SALES\\_RATIO)}$\n",
    "  + $\\text{Earnings Yield (EARN\\_YLD)}$\n",
    "  \n",
    "- $\\textbf{Market Metrics:}$\n",
    "  + $\\text{Volatility Index (VIX)}$\n",
    "  + $\\text{10-Year Treasury Yield (USGG10YR)}$\n",
    "  + $\\text{NAPM Manufacturing PMI (NAPMPMI)}$\n",
    "  + $\\text{Consumer Confidence Index (CONCCONF)}$"
   ]
  },
  {
   "cell_type": "markdown",
   "metadata": {},
   "source": []
  },
  {
   "cell_type": "code",
   "execution_count": 12,
   "metadata": {},
   "outputs": [
    {
     "data": {
      "text/plain": [
       "Index(['Date', ' Open', ' High', ' Low', ' Close'], dtype='object')"
      ]
     },
     "execution_count": 12,
     "metadata": {},
     "output_type": "execute_result"
    }
   ],
   "source": [
    "spx_500.columns"
   ]
  },
  {
   "cell_type": "code",
   "execution_count": 13,
   "metadata": {},
   "outputs": [],
   "source": [
    "# FIX: Remove leading whitespace found in column name `Open`, `Close`, `High`, and `Low`\n",
    "spx_500.rename(columns=str.strip, inplace=True)"
   ]
  },
  {
   "cell_type": "code",
   "execution_count": 14,
   "metadata": {},
   "outputs": [],
   "source": [
    "# FIX: Substitute current column names with those found in the research paper\n",
    "col_names_to_sub =  {\"Open\": \"PX_OPEN\", \"Close\": \"PX_CLOSE\", \"High\": \"PX_HIGH\", \"Low\": \"PX_LOW\"}\n",
    "spx_500.rename(columns=col_names_to_sub, inplace=True)"
   ]
  },
  {
   "cell_type": "code",
   "execution_count": 15,
   "metadata": {},
   "outputs": [
    {
     "data": {
      "text/plain": [
       "Index(['Date', 'PX_OPEN', 'PX_HIGH', 'PX_LOW', 'PX_CLOSE'], dtype='object')"
      ]
     },
     "execution_count": 15,
     "metadata": {},
     "output_type": "execute_result"
    }
   ],
   "source": [
    "spx_500.columns"
   ]
  },
  {
   "cell_type": "code",
   "execution_count": 16,
   "metadata": {},
   "outputs": [],
   "source": [
    "# NEW COLUMN (PX_HIGH_LOW_DIFFERENCE): difference between the `PX_HIGH` and `PX_LOW`\n",
    "spx_500[\"PX_HIGH_LOW_DIFFERENCE\"] = spx_500[\"PX_HIGH\"] - spx_500[\"PX_LOW\"]"
   ]
  },
  {
   "cell_type": "code",
   "execution_count": 17,
   "metadata": {},
   "outputs": [
    {
     "data": {
      "text/html": [
       "<div>\n",
       "<style scoped>\n",
       "    .dataframe tbody tr th:only-of-type {\n",
       "        vertical-align: middle;\n",
       "    }\n",
       "\n",
       "    .dataframe tbody tr th {\n",
       "        vertical-align: top;\n",
       "    }\n",
       "\n",
       "    .dataframe thead th {\n",
       "        text-align: right;\n",
       "    }\n",
       "</style>\n",
       "<table border=\"1\" class=\"dataframe\">\n",
       "  <thead>\n",
       "    <tr style=\"text-align: right;\">\n",
       "      <th></th>\n",
       "      <th>Date</th>\n",
       "      <th>PX_OPEN</th>\n",
       "      <th>PX_HIGH</th>\n",
       "      <th>PX_LOW</th>\n",
       "      <th>PX_CLOSE</th>\n",
       "      <th>PX_HIGH_LOW_DIFFERENCE</th>\n",
       "    </tr>\n",
       "  </thead>\n",
       "  <tbody>\n",
       "    <tr>\n",
       "      <th>0</th>\n",
       "      <td>2013-10-01</td>\n",
       "      <td>1682.41</td>\n",
       "      <td>1696.55</td>\n",
       "      <td>1682.07</td>\n",
       "      <td>1695.00</td>\n",
       "      <td>14.48</td>\n",
       "    </tr>\n",
       "    <tr>\n",
       "      <th>1</th>\n",
       "      <td>2013-10-02</td>\n",
       "      <td>1691.90</td>\n",
       "      <td>1693.87</td>\n",
       "      <td>1680.34</td>\n",
       "      <td>1693.87</td>\n",
       "      <td>13.53</td>\n",
       "    </tr>\n",
       "    <tr>\n",
       "      <th>2</th>\n",
       "      <td>2013-10-03</td>\n",
       "      <td>1692.35</td>\n",
       "      <td>1692.35</td>\n",
       "      <td>1670.36</td>\n",
       "      <td>1678.66</td>\n",
       "      <td>21.99</td>\n",
       "    </tr>\n",
       "    <tr>\n",
       "      <th>3</th>\n",
       "      <td>2013-10-04</td>\n",
       "      <td>1678.79</td>\n",
       "      <td>1691.94</td>\n",
       "      <td>1677.33</td>\n",
       "      <td>1690.50</td>\n",
       "      <td>14.61</td>\n",
       "    </tr>\n",
       "    <tr>\n",
       "      <th>4</th>\n",
       "      <td>2013-10-07</td>\n",
       "      <td>1687.15</td>\n",
       "      <td>1687.15</td>\n",
       "      <td>1674.70</td>\n",
       "      <td>1676.12</td>\n",
       "      <td>12.45</td>\n",
       "    </tr>\n",
       "  </tbody>\n",
       "</table>\n",
       "</div>"
      ],
      "text/plain": [
       "        Date  PX_OPEN  PX_HIGH   PX_LOW  PX_CLOSE  PX_HIGH_LOW_DIFFERENCE\n",
       "0 2013-10-01  1682.41  1696.55  1682.07   1695.00                   14.48\n",
       "1 2013-10-02  1691.90  1693.87  1680.34   1693.87                   13.53\n",
       "2 2013-10-03  1692.35  1692.35  1670.36   1678.66                   21.99\n",
       "3 2013-10-04  1678.79  1691.94  1677.33   1690.50                   14.61\n",
       "4 2013-10-07  1687.15  1687.15  1674.70   1676.12                   12.45"
      ]
     },
     "execution_count": 17,
     "metadata": {},
     "output_type": "execute_result"
    }
   ],
   "source": [
    "spx_500.head()"
   ]
  },
  {
   "cell_type": "markdown",
   "metadata": {},
   "source": [
    "### $\\text{Moving Average (50\\&200-days)}$\n",
    "\n",
    "$\\textbf{formula:}$\n",
    "$$\\text{MOV\\_AVG}=\\frac{1}{N}\\sum{_{i=0}^{N-1}}\\textit{Close Price}_{i}$$"
   ]
  },
  {
   "cell_type": "code",
   "execution_count": 18,
   "metadata": {},
   "outputs": [],
   "source": [
    "# NEW COLUMN (MOVING_AVG_50D): Moving average for 50 SPX market days\n",
    "spx_500[\"MOVING_AVG_50D\"] = spx_500[\"PX_CLOSE\"].rolling(50).mean()"
   ]
  },
  {
   "cell_type": "code",
   "execution_count": 19,
   "metadata": {},
   "outputs": [],
   "source": [
    "# NEW COLUMN (MOVING_AVG_200D): Moving average for 200 SPX market days\n",
    "spx_500[\"MOVING_AVG_200D\"] = spx_500[\"PX_CLOSE\"].rolling(200).mean()"
   ]
  },
  {
   "cell_type": "markdown",
   "metadata": {},
   "source": [
    "### $\\text{Relative Strength Index (14-days)}$\n",
    "\n",
    "$\\textbf{formula:}$\n",
    "\n",
    "$$\\text{RSI}=100-\\left(\\frac{100}{1+RS}\\right)$$\n",
    "\n",
    "$\\textbf{where}$\n",
    "\n",
    "$$\\text{RS}=\\frac{\\text{Average Gain Over 14 days}}{\\text{Average Loss Over 14 days}}$$\n",
    "\n"
   ]
  },
  {
   "cell_type": "code",
   "execution_count": 20,
   "metadata": {},
   "outputs": [],
   "source": [
    "def compute_rsi(df: pd.DataFrame=spx_500, window: int=14):\n",
    "    delta = df[\"PX_CLOSE\"].diff()\n",
    "    avg_gain = (delta.where(delta > 0, 0)).rolling(window=window).mean()\n",
    "    avg_loss = (delta.where(delta < 0, 0)).rolling(window=window).mean()\n",
    "    RS = avg_gain / avg_loss\n",
    "    df[f\"RSI_{window}D\"] = 100 - (100 / (1 + RS))"
   ]
  },
  {
   "cell_type": "code",
   "execution_count": 21,
   "metadata": {},
   "outputs": [
    {
     "data": {
      "text/html": [
       "<div>\n",
       "<style scoped>\n",
       "    .dataframe tbody tr th:only-of-type {\n",
       "        vertical-align: middle;\n",
       "    }\n",
       "\n",
       "    .dataframe tbody tr th {\n",
       "        vertical-align: top;\n",
       "    }\n",
       "\n",
       "    .dataframe thead th {\n",
       "        text-align: right;\n",
       "    }\n",
       "</style>\n",
       "<table border=\"1\" class=\"dataframe\">\n",
       "  <thead>\n",
       "    <tr style=\"text-align: right;\">\n",
       "      <th></th>\n",
       "      <th>Date</th>\n",
       "      <th>PX_OPEN</th>\n",
       "      <th>PX_HIGH</th>\n",
       "      <th>PX_LOW</th>\n",
       "      <th>PX_CLOSE</th>\n",
       "      <th>PX_HIGH_LOW_DIFFERENCE</th>\n",
       "      <th>MOVING_AVG_50D</th>\n",
       "      <th>MOVING_AVG_200D</th>\n",
       "    </tr>\n",
       "  </thead>\n",
       "  <tbody>\n",
       "    <tr>\n",
       "      <th>0</th>\n",
       "      <td>2013-10-01</td>\n",
       "      <td>1682.41</td>\n",
       "      <td>1696.55</td>\n",
       "      <td>1682.07</td>\n",
       "      <td>1695.00</td>\n",
       "      <td>14.48</td>\n",
       "      <td>NaN</td>\n",
       "      <td>NaN</td>\n",
       "    </tr>\n",
       "    <tr>\n",
       "      <th>1</th>\n",
       "      <td>2013-10-02</td>\n",
       "      <td>1691.90</td>\n",
       "      <td>1693.87</td>\n",
       "      <td>1680.34</td>\n",
       "      <td>1693.87</td>\n",
       "      <td>13.53</td>\n",
       "      <td>NaN</td>\n",
       "      <td>NaN</td>\n",
       "    </tr>\n",
       "    <tr>\n",
       "      <th>2</th>\n",
       "      <td>2013-10-03</td>\n",
       "      <td>1692.35</td>\n",
       "      <td>1692.35</td>\n",
       "      <td>1670.36</td>\n",
       "      <td>1678.66</td>\n",
       "      <td>21.99</td>\n",
       "      <td>NaN</td>\n",
       "      <td>NaN</td>\n",
       "    </tr>\n",
       "    <tr>\n",
       "      <th>3</th>\n",
       "      <td>2013-10-04</td>\n",
       "      <td>1678.79</td>\n",
       "      <td>1691.94</td>\n",
       "      <td>1677.33</td>\n",
       "      <td>1690.50</td>\n",
       "      <td>14.61</td>\n",
       "      <td>NaN</td>\n",
       "      <td>NaN</td>\n",
       "    </tr>\n",
       "    <tr>\n",
       "      <th>4</th>\n",
       "      <td>2013-10-07</td>\n",
       "      <td>1687.15</td>\n",
       "      <td>1687.15</td>\n",
       "      <td>1674.70</td>\n",
       "      <td>1676.12</td>\n",
       "      <td>12.45</td>\n",
       "      <td>NaN</td>\n",
       "      <td>NaN</td>\n",
       "    </tr>\n",
       "    <tr>\n",
       "      <th>...</th>\n",
       "      <td>...</td>\n",
       "      <td>...</td>\n",
       "      <td>...</td>\n",
       "      <td>...</td>\n",
       "      <td>...</td>\n",
       "      <td>...</td>\n",
       "      <td>...</td>\n",
       "      <td>...</td>\n",
       "    </tr>\n",
       "    <tr>\n",
       "      <th>2763</th>\n",
       "      <td>2024-09-24</td>\n",
       "      <td>5727.66</td>\n",
       "      <td>5735.32</td>\n",
       "      <td>5698.99</td>\n",
       "      <td>5732.93</td>\n",
       "      <td>36.33</td>\n",
       "      <td>5522.2118</td>\n",
       "      <td>5211.58160</td>\n",
       "    </tr>\n",
       "    <tr>\n",
       "      <th>2764</th>\n",
       "      <td>2024-09-25</td>\n",
       "      <td>5733.65</td>\n",
       "      <td>5741.03</td>\n",
       "      <td>5712.06</td>\n",
       "      <td>5722.26</td>\n",
       "      <td>28.97</td>\n",
       "      <td>5523.3130</td>\n",
       "      <td>5217.26495</td>\n",
       "    </tr>\n",
       "    <tr>\n",
       "      <th>2765</th>\n",
       "      <td>2024-09-26</td>\n",
       "      <td>5762.22</td>\n",
       "      <td>5767.37</td>\n",
       "      <td>5721.01</td>\n",
       "      <td>5745.37</td>\n",
       "      <td>46.36</td>\n",
       "      <td>5526.4550</td>\n",
       "      <td>5222.96995</td>\n",
       "    </tr>\n",
       "    <tr>\n",
       "      <th>2766</th>\n",
       "      <td>2024-09-27</td>\n",
       "      <td>5755.36</td>\n",
       "      <td>5763.78</td>\n",
       "      <td>5727.34</td>\n",
       "      <td>5738.17</td>\n",
       "      <td>36.44</td>\n",
       "      <td>5530.3266</td>\n",
       "      <td>5228.54860</td>\n",
       "    </tr>\n",
       "    <tr>\n",
       "      <th>2767</th>\n",
       "      <td>2024-09-30</td>\n",
       "      <td>5726.52</td>\n",
       "      <td>5765.14</td>\n",
       "      <td>5703.53</td>\n",
       "      <td>5762.48</td>\n",
       "      <td>61.61</td>\n",
       "      <td>5535.4762</td>\n",
       "      <td>5234.14250</td>\n",
       "    </tr>\n",
       "  </tbody>\n",
       "</table>\n",
       "<p>2768 rows × 8 columns</p>\n",
       "</div>"
      ],
      "text/plain": [
       "           Date  PX_OPEN  PX_HIGH   PX_LOW  PX_CLOSE  PX_HIGH_LOW_DIFFERENCE  \\\n",
       "0    2013-10-01  1682.41  1696.55  1682.07   1695.00                   14.48   \n",
       "1    2013-10-02  1691.90  1693.87  1680.34   1693.87                   13.53   \n",
       "2    2013-10-03  1692.35  1692.35  1670.36   1678.66                   21.99   \n",
       "3    2013-10-04  1678.79  1691.94  1677.33   1690.50                   14.61   \n",
       "4    2013-10-07  1687.15  1687.15  1674.70   1676.12                   12.45   \n",
       "...         ...      ...      ...      ...       ...                     ...   \n",
       "2763 2024-09-24  5727.66  5735.32  5698.99   5732.93                   36.33   \n",
       "2764 2024-09-25  5733.65  5741.03  5712.06   5722.26                   28.97   \n",
       "2765 2024-09-26  5762.22  5767.37  5721.01   5745.37                   46.36   \n",
       "2766 2024-09-27  5755.36  5763.78  5727.34   5738.17                   36.44   \n",
       "2767 2024-09-30  5726.52  5765.14  5703.53   5762.48                   61.61   \n",
       "\n",
       "      MOVING_AVG_50D  MOVING_AVG_200D  \n",
       "0                NaN              NaN  \n",
       "1                NaN              NaN  \n",
       "2                NaN              NaN  \n",
       "3                NaN              NaN  \n",
       "4                NaN              NaN  \n",
       "...              ...              ...  \n",
       "2763       5522.2118       5211.58160  \n",
       "2764       5523.3130       5217.26495  \n",
       "2765       5526.4550       5222.96995  \n",
       "2766       5530.3266       5228.54860  \n",
       "2767       5535.4762       5234.14250  \n",
       "\n",
       "[2768 rows x 8 columns]"
      ]
     },
     "execution_count": 21,
     "metadata": {},
     "output_type": "execute_result"
    }
   ],
   "source": [
    "spx_500"
   ]
  },
  {
   "cell_type": "code",
   "execution_count": 25,
   "metadata": {},
   "outputs": [],
   "source": [
    "spx_500.to_csv(\"../data/PreprocessedHistoricalPrices.csv\", index=False)"
   ]
  },
  {
   "cell_type": "code",
   "execution_count": null,
   "metadata": {},
   "outputs": [],
   "source": []
  }
 ],
 "metadata": {
  "kernelspec": {
   "display_name": ".venv",
   "language": "python",
   "name": "python3"
  },
  "language_info": {
   "codemirror_mode": {
    "name": "ipython",
    "version": 3
   },
   "file_extension": ".py",
   "mimetype": "text/x-python",
   "name": "python",
   "nbconvert_exporter": "python",
   "pygments_lexer": "ipython3",
   "version": "3.13.1"
  }
 },
 "nbformat": 4,
 "nbformat_minor": 2
}
